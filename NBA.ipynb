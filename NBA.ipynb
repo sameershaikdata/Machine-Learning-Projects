{
 "cells": [
  {
   "cell_type": "code",
   "execution_count": 1,
   "id": "ad031336",
   "metadata": {},
   "outputs": [],
   "source": [
    "import pandas as pd\n",
    "import numpy as np\n",
    "import matplotlib.pyplot as plt\n",
    "import seaborn as sns"
   ]
  },
  {
   "cell_type": "code",
   "execution_count": 2,
   "id": "71cf9e04",
   "metadata": {},
   "outputs": [],
   "source": [
    "df=pd.read_csv('C:/Users/smdsa/Downloads/NBA Stats 2018-2021/NBA_stats.csv')"
   ]
  },
  {
   "cell_type": "code",
   "execution_count": 3,
   "id": "acf01fbe",
   "metadata": {},
   "outputs": [
    {
     "data": {
      "text/plain": [
       "(2728, 25)"
      ]
     },
     "execution_count": 3,
     "metadata": {},
     "output_type": "execute_result"
    }
   ],
   "source": [
    "df.shape"
   ]
  },
  {
   "cell_type": "code",
   "execution_count": 4,
   "id": "ae60ecf5",
   "metadata": {},
   "outputs": [
    {
     "data": {
      "text/html": [
       "<div>\n",
       "<style scoped>\n",
       "    .dataframe tbody tr th:only-of-type {\n",
       "        vertical-align: middle;\n",
       "    }\n",
       "\n",
       "    .dataframe tbody tr th {\n",
       "        vertical-align: top;\n",
       "    }\n",
       "\n",
       "    .dataframe thead th {\n",
       "        text-align: right;\n",
       "    }\n",
       "</style>\n",
       "<table border=\"1\" class=\"dataframe\">\n",
       "  <thead>\n",
       "    <tr style=\"text-align: right;\">\n",
       "      <th></th>\n",
       "      <th>Player</th>\n",
       "      <th>Pos</th>\n",
       "      <th>Age</th>\n",
       "      <th>Team</th>\n",
       "      <th>Games</th>\n",
       "      <th>Minutes Played</th>\n",
       "      <th>Fields Goal</th>\n",
       "      <th>Fields Goal Attempted</th>\n",
       "      <th>3-points Field Goal</th>\n",
       "      <th>3-points Field Goal Attempted</th>\n",
       "      <th>...</th>\n",
       "      <th>Defensive Rebounds</th>\n",
       "      <th>Total Rebounds</th>\n",
       "      <th>Assists</th>\n",
       "      <th>Steals</th>\n",
       "      <th>Blocks</th>\n",
       "      <th>Turnovers</th>\n",
       "      <th>Personal Fouls</th>\n",
       "      <th>Points</th>\n",
       "      <th>Rank</th>\n",
       "      <th>Year</th>\n",
       "    </tr>\n",
       "  </thead>\n",
       "  <tbody>\n",
       "    <tr>\n",
       "      <th>1106</th>\n",
       "      <td>Patrick McCaw</td>\n",
       "      <td>SG</td>\n",
       "      <td>23</td>\n",
       "      <td>TOT</td>\n",
       "      <td>29</td>\n",
       "      <td>13.7</td>\n",
       "      <td>0.9</td>\n",
       "      <td>2.2</td>\n",
       "      <td>0.3</td>\n",
       "      <td>1.0</td>\n",
       "      <td>...</td>\n",
       "      <td>1.4</td>\n",
       "      <td>1.7</td>\n",
       "      <td>1.0</td>\n",
       "      <td>0.8</td>\n",
       "      <td>0.1</td>\n",
       "      <td>0.6</td>\n",
       "      <td>1.3</td>\n",
       "      <td>2.6</td>\n",
       "      <td>333</td>\n",
       "      <td>2019</td>\n",
       "    </tr>\n",
       "    <tr>\n",
       "      <th>451</th>\n",
       "      <td>Shabazz Napier</td>\n",
       "      <td>PG</td>\n",
       "      <td>26</td>\n",
       "      <td>POR</td>\n",
       "      <td>74</td>\n",
       "      <td>20.7</td>\n",
       "      <td>3.0</td>\n",
       "      <td>7.2</td>\n",
       "      <td>1.1</td>\n",
       "      <td>2.9</td>\n",
       "      <td>...</td>\n",
       "      <td>1.9</td>\n",
       "      <td>2.3</td>\n",
       "      <td>2.0</td>\n",
       "      <td>1.1</td>\n",
       "      <td>0.2</td>\n",
       "      <td>1.2</td>\n",
       "      <td>1.1</td>\n",
       "      <td>8.7</td>\n",
       "      <td>365</td>\n",
       "      <td>2018</td>\n",
       "    </tr>\n",
       "    <tr>\n",
       "      <th>1572</th>\n",
       "      <td>Dante Exum</td>\n",
       "      <td>SG</td>\n",
       "      <td>24</td>\n",
       "      <td>UTA</td>\n",
       "      <td>11</td>\n",
       "      <td>7.5</td>\n",
       "      <td>0.9</td>\n",
       "      <td>2.1</td>\n",
       "      <td>0.2</td>\n",
       "      <td>0.5</td>\n",
       "      <td>...</td>\n",
       "      <td>0.8</td>\n",
       "      <td>1.1</td>\n",
       "      <td>0.6</td>\n",
       "      <td>0.1</td>\n",
       "      <td>0.2</td>\n",
       "      <td>0.9</td>\n",
       "      <td>0.7</td>\n",
       "      <td>2.2</td>\n",
       "      <td>150</td>\n",
       "      <td>2020</td>\n",
       "    </tr>\n",
       "    <tr>\n",
       "      <th>190</th>\n",
       "      <td>Kay Felder</td>\n",
       "      <td>PG</td>\n",
       "      <td>22</td>\n",
       "      <td>DET</td>\n",
       "      <td>2</td>\n",
       "      <td>3.0</td>\n",
       "      <td>0.5</td>\n",
       "      <td>2.0</td>\n",
       "      <td>0.0</td>\n",
       "      <td>0.5</td>\n",
       "      <td>...</td>\n",
       "      <td>1.0</td>\n",
       "      <td>2.0</td>\n",
       "      <td>0.0</td>\n",
       "      <td>0.0</td>\n",
       "      <td>0.0</td>\n",
       "      <td>0.5</td>\n",
       "      <td>0.0</td>\n",
       "      <td>1.0</td>\n",
       "      <td>156</td>\n",
       "      <td>2018</td>\n",
       "    </tr>\n",
       "    <tr>\n",
       "      <th>1067</th>\n",
       "      <td>Jeremy Lin</td>\n",
       "      <td>PG</td>\n",
       "      <td>30</td>\n",
       "      <td>ATL</td>\n",
       "      <td>51</td>\n",
       "      <td>19.7</td>\n",
       "      <td>3.5</td>\n",
       "      <td>7.6</td>\n",
       "      <td>0.9</td>\n",
       "      <td>2.6</td>\n",
       "      <td>...</td>\n",
       "      <td>2.0</td>\n",
       "      <td>2.3</td>\n",
       "      <td>3.5</td>\n",
       "      <td>0.7</td>\n",
       "      <td>0.1</td>\n",
       "      <td>1.9</td>\n",
       "      <td>1.9</td>\n",
       "      <td>10.7</td>\n",
       "      <td>306</td>\n",
       "      <td>2019</td>\n",
       "    </tr>\n",
       "    <tr>\n",
       "      <th>46</th>\n",
       "      <td>Jordan Bell</td>\n",
       "      <td>C</td>\n",
       "      <td>23</td>\n",
       "      <td>GSW</td>\n",
       "      <td>57</td>\n",
       "      <td>14.2</td>\n",
       "      <td>2.0</td>\n",
       "      <td>3.2</td>\n",
       "      <td>0.0</td>\n",
       "      <td>0.1</td>\n",
       "      <td>...</td>\n",
       "      <td>2.6</td>\n",
       "      <td>3.6</td>\n",
       "      <td>1.8</td>\n",
       "      <td>0.6</td>\n",
       "      <td>1.0</td>\n",
       "      <td>0.9</td>\n",
       "      <td>1.6</td>\n",
       "      <td>4.6</td>\n",
       "      <td>41</td>\n",
       "      <td>2018</td>\n",
       "    </tr>\n",
       "    <tr>\n",
       "      <th>2174</th>\n",
       "      <td>Stephen Curry</td>\n",
       "      <td>PG</td>\n",
       "      <td>32</td>\n",
       "      <td>GSW</td>\n",
       "      <td>63</td>\n",
       "      <td>34.2</td>\n",
       "      <td>10.4</td>\n",
       "      <td>21.7</td>\n",
       "      <td>5.3</td>\n",
       "      <td>12.7</td>\n",
       "      <td>...</td>\n",
       "      <td>5.0</td>\n",
       "      <td>5.5</td>\n",
       "      <td>5.8</td>\n",
       "      <td>1.2</td>\n",
       "      <td>0.1</td>\n",
       "      <td>3.4</td>\n",
       "      <td>1.9</td>\n",
       "      <td>32.0</td>\n",
       "      <td>116</td>\n",
       "      <td>2021</td>\n",
       "    </tr>\n",
       "    <tr>\n",
       "      <th>969</th>\n",
       "      <td>Rodney Hood</td>\n",
       "      <td>SG</td>\n",
       "      <td>26</td>\n",
       "      <td>TOT</td>\n",
       "      <td>72</td>\n",
       "      <td>26.3</td>\n",
       "      <td>4.1</td>\n",
       "      <td>9.3</td>\n",
       "      <td>1.2</td>\n",
       "      <td>3.3</td>\n",
       "      <td>...</td>\n",
       "      <td>1.8</td>\n",
       "      <td>2.2</td>\n",
       "      <td>1.8</td>\n",
       "      <td>0.8</td>\n",
       "      <td>0.2</td>\n",
       "      <td>0.8</td>\n",
       "      <td>2.0</td>\n",
       "      <td>11.2</td>\n",
       "      <td>235</td>\n",
       "      <td>2019</td>\n",
       "    </tr>\n",
       "    <tr>\n",
       "      <th>2687</th>\n",
       "      <td>Lonnie Walker</td>\n",
       "      <td>SG</td>\n",
       "      <td>22</td>\n",
       "      <td>SAS</td>\n",
       "      <td>60</td>\n",
       "      <td>25.4</td>\n",
       "      <td>4.3</td>\n",
       "      <td>10.2</td>\n",
       "      <td>1.7</td>\n",
       "      <td>4.7</td>\n",
       "      <td>...</td>\n",
       "      <td>2.4</td>\n",
       "      <td>2.6</td>\n",
       "      <td>1.7</td>\n",
       "      <td>0.5</td>\n",
       "      <td>0.3</td>\n",
       "      <td>1.1</td>\n",
       "      <td>1.7</td>\n",
       "      <td>11.2</td>\n",
       "      <td>508</td>\n",
       "      <td>2021</td>\n",
       "    </tr>\n",
       "    <tr>\n",
       "      <th>2057</th>\n",
       "      <td>Lonzo Ball</td>\n",
       "      <td>PG</td>\n",
       "      <td>23</td>\n",
       "      <td>NOP</td>\n",
       "      <td>55</td>\n",
       "      <td>31.8</td>\n",
       "      <td>5.3</td>\n",
       "      <td>12.7</td>\n",
       "      <td>3.1</td>\n",
       "      <td>8.3</td>\n",
       "      <td>...</td>\n",
       "      <td>4.2</td>\n",
       "      <td>4.8</td>\n",
       "      <td>5.7</td>\n",
       "      <td>1.5</td>\n",
       "      <td>0.6</td>\n",
       "      <td>2.2</td>\n",
       "      <td>1.9</td>\n",
       "      <td>14.6</td>\n",
       "      <td>27</td>\n",
       "      <td>2021</td>\n",
       "    </tr>\n",
       "  </tbody>\n",
       "</table>\n",
       "<p>10 rows × 25 columns</p>\n",
       "</div>"
      ],
      "text/plain": [
       "              Player Pos  Age Team  Games  Minutes Played  Fields Goal  \\\n",
       "1106   Patrick McCaw  SG   23  TOT     29            13.7          0.9   \n",
       "451   Shabazz Napier  PG   26  POR     74            20.7          3.0   \n",
       "1572      Dante Exum  SG   24  UTA     11             7.5          0.9   \n",
       "190       Kay Felder  PG   22  DET      2             3.0          0.5   \n",
       "1067      Jeremy Lin  PG   30  ATL     51            19.7          3.5   \n",
       "46       Jordan Bell   C   23  GSW     57            14.2          2.0   \n",
       "2174   Stephen Curry  PG   32  GSW     63            34.2         10.4   \n",
       "969      Rodney Hood  SG   26  TOT     72            26.3          4.1   \n",
       "2687   Lonnie Walker  SG   22  SAS     60            25.4          4.3   \n",
       "2057      Lonzo Ball  PG   23  NOP     55            31.8          5.3   \n",
       "\n",
       "      Fields Goal Attempted  3-points Field Goal  \\\n",
       "1106                    2.2                  0.3   \n",
       "451                     7.2                  1.1   \n",
       "1572                    2.1                  0.2   \n",
       "190                     2.0                  0.0   \n",
       "1067                    7.6                  0.9   \n",
       "46                      3.2                  0.0   \n",
       "2174                   21.7                  5.3   \n",
       "969                     9.3                  1.2   \n",
       "2687                   10.2                  1.7   \n",
       "2057                   12.7                  3.1   \n",
       "\n",
       "      3-points Field Goal Attempted  ...  Defensive Rebounds  Total Rebounds  \\\n",
       "1106                            1.0  ...                 1.4             1.7   \n",
       "451                             2.9  ...                 1.9             2.3   \n",
       "1572                            0.5  ...                 0.8             1.1   \n",
       "190                             0.5  ...                 1.0             2.0   \n",
       "1067                            2.6  ...                 2.0             2.3   \n",
       "46                              0.1  ...                 2.6             3.6   \n",
       "2174                           12.7  ...                 5.0             5.5   \n",
       "969                             3.3  ...                 1.8             2.2   \n",
       "2687                            4.7  ...                 2.4             2.6   \n",
       "2057                            8.3  ...                 4.2             4.8   \n",
       "\n",
       "      Assists  Steals  Blocks  Turnovers  Personal Fouls  Points  Rank  Year  \n",
       "1106      1.0     0.8     0.1        0.6             1.3     2.6   333  2019  \n",
       "451       2.0     1.1     0.2        1.2             1.1     8.7   365  2018  \n",
       "1572      0.6     0.1     0.2        0.9             0.7     2.2   150  2020  \n",
       "190       0.0     0.0     0.0        0.5             0.0     1.0   156  2018  \n",
       "1067      3.5     0.7     0.1        1.9             1.9    10.7   306  2019  \n",
       "46        1.8     0.6     1.0        0.9             1.6     4.6    41  2018  \n",
       "2174      5.8     1.2     0.1        3.4             1.9    32.0   116  2021  \n",
       "969       1.8     0.8     0.2        0.8             2.0    11.2   235  2019  \n",
       "2687      1.7     0.5     0.3        1.1             1.7    11.2   508  2021  \n",
       "2057      5.7     1.5     0.6        2.2             1.9    14.6    27  2021  \n",
       "\n",
       "[10 rows x 25 columns]"
      ]
     },
     "execution_count": 4,
     "metadata": {},
     "output_type": "execute_result"
    }
   ],
   "source": [
    "df.sample(n=10)"
   ]
  },
  {
   "cell_type": "code",
   "execution_count": 5,
   "id": "1c6d2f01",
   "metadata": {},
   "outputs": [
    {
     "data": {
      "text/plain": [
       "(2728, 25)"
      ]
     },
     "execution_count": 5,
     "metadata": {},
     "output_type": "execute_result"
    }
   ],
   "source": [
    "df.shape"
   ]
  },
  {
   "cell_type": "code",
   "execution_count": 6,
   "id": "eb73b501",
   "metadata": {},
   "outputs": [
    {
     "name": "stdout",
     "output_type": "stream",
     "text": [
      "<class 'pandas.core.frame.DataFrame'>\n",
      "RangeIndex: 2728 entries, 0 to 2727\n",
      "Data columns (total 25 columns):\n",
      " #   Column                         Non-Null Count  Dtype  \n",
      "---  ------                         --------------  -----  \n",
      " 0   Player                         2728 non-null   object \n",
      " 1   Pos                            2728 non-null   object \n",
      " 2   Age                            2728 non-null   int64  \n",
      " 3   Team                           2728 non-null   object \n",
      " 4   Games                          2728 non-null   int64  \n",
      " 5   Minutes Played                 2728 non-null   float64\n",
      " 6   Fields Goal                    2728 non-null   float64\n",
      " 7   Fields Goal Attempted          2728 non-null   float64\n",
      " 8   3-points Field Goal            2728 non-null   float64\n",
      " 9   3-points Field Goal Attempted  2728 non-null   float64\n",
      " 10  2-points Field Goal            2728 non-null   float64\n",
      " 11  2-points Field Goal Attempted  2728 non-null   float64\n",
      " 12  Free Throws                    2728 non-null   float64\n",
      " 13  Free Throws Attempted          2728 non-null   float64\n",
      " 14  Offensive Rebounds             2728 non-null   float64\n",
      " 15  Defensive Rebounds             2728 non-null   float64\n",
      " 16  Total Rebounds                 2728 non-null   float64\n",
      " 17  Assists                        2728 non-null   float64\n",
      " 18  Steals                         2728 non-null   float64\n",
      " 19  Blocks                         2728 non-null   float64\n",
      " 20  Turnovers                      2728 non-null   float64\n",
      " 21  Personal Fouls                 2728 non-null   float64\n",
      " 22  Points                         2728 non-null   float64\n",
      " 23  Rank                           2728 non-null   int64  \n",
      " 24  Year                           2728 non-null   int64  \n",
      "dtypes: float64(18), int64(4), object(3)\n",
      "memory usage: 532.9+ KB\n"
     ]
    }
   ],
   "source": [
    "df.info()"
   ]
  },
  {
   "cell_type": "code",
   "execution_count": 7,
   "id": "23548c39",
   "metadata": {},
   "outputs": [
    {
     "data": {
      "text/plain": [
       "Player                           0\n",
       "Pos                              0\n",
       "Age                              0\n",
       "Team                             0\n",
       "Games                            0\n",
       "Minutes Played                   0\n",
       "Fields Goal                      0\n",
       "Fields Goal Attempted            0\n",
       "3-points Field Goal              0\n",
       "3-points Field Goal Attempted    0\n",
       "2-points Field Goal              0\n",
       "2-points Field Goal Attempted    0\n",
       "Free Throws                      0\n",
       "Free Throws Attempted            0\n",
       "Offensive Rebounds               0\n",
       "Defensive Rebounds               0\n",
       "Total Rebounds                   0\n",
       "Assists                          0\n",
       "Steals                           0\n",
       "Blocks                           0\n",
       "Turnovers                        0\n",
       "Personal Fouls                   0\n",
       "Points                           0\n",
       "Rank                             0\n",
       "Year                             0\n",
       "dtype: int64"
      ]
     },
     "execution_count": 7,
     "metadata": {},
     "output_type": "execute_result"
    }
   ],
   "source": [
    "df.isnull().sum()"
   ]
  },
  {
   "cell_type": "code",
   "execution_count": 8,
   "id": "4fdaf23d",
   "metadata": {},
   "outputs": [
    {
     "data": {
      "text/plain": [
       "1.0     76\n",
       "2.0     71\n",
       "1.3     69\n",
       "2.5     67\n",
       "2.2     66\n",
       "        ..\n",
       "10.6     1\n",
       "10.8     1\n",
       "9.6      1\n",
       "10.9     1\n",
       "10.1     1\n",
       "Name: Fields Goal, Length: 109, dtype: int64"
      ]
     },
     "execution_count": 8,
     "metadata": {},
     "output_type": "execute_result"
    }
   ],
   "source": [
    "df['Fields Goal'].value_counts()"
   ]
  },
  {
   "cell_type": "code",
   "execution_count": 9,
   "id": "043b8139",
   "metadata": {},
   "outputs": [
    {
     "data": {
      "text/plain": [
       "<AxesSubplot:>"
      ]
     },
     "execution_count": 9,
     "metadata": {},
     "output_type": "execute_result"
    },
    {
     "data": {
      "image/png": "[encoded data removed]",
      "text/plain": [
       "<Figure size 432x288 with 1 Axes>"
      ]
     },
     "metadata": {
      "needs_background": "light"
     },
     "output_type": "display_data"
    }
   ],
   "source": [
    "df['Fields Goal'].hist()"
   ]
  },
  {
   "cell_type": "code",
   "execution_count": 10,
   "id": "62c0e2c6",
   "metadata": {},
   "outputs": [
    {
     "name": "stderr",
     "output_type": "stream",
     "text": [
      "C:\\ProgramData\\Anaconda3\\lib\\site-packages\\seaborn\\_decorators.py:36: FutureWarning: Pass the following variable as a keyword arg: x. From version 0.12, the only valid positional argument will be `data`, and passing other arguments without an explicit keyword will result in an error or misinterpretation.\n",
      "  warnings.warn(\n"
     ]
    },
    {
     "data": {
      "text/plain": [
       "<AxesSubplot:xlabel='Fields Goal'>"
      ]
     },
     "execution_count": 10,
     "metadata": {},
     "output_type": "execute_result"
    },
    {
     "data": {
      "image/png": "[encoded data removed]",
      "text/plain": [
       "<Figure size 432x288 with 1 Axes>"
      ]
     },
     "metadata": {
      "needs_background": "light"
     },
     "output_type": "display_data"
    }
   ],
   "source": [
    "sns.boxplot(df['Fields Goal'])"
   ]
  },
  {
   "cell_type": "code",
   "execution_count": 11,
   "id": "f73c4dfe",
   "metadata": {},
   "outputs": [
    {
     "name": "stdout",
     "output_type": "stream",
     "text": [
      "IQR 2.9\n",
      "LL -2.9499999999999997\n",
      "UL 8.649999999999999\n"
     ]
    }
   ],
   "source": [
    "iqr=df['Fields Goal'].quantile(.75)-df['Fields Goal'].quantile(.25)\n",
    "print('IQR',iqr)\n",
    "ll=df['Fields Goal'].quantile(.25)-1.5*iqr\n",
    "print('LL',ll)\n",
    "ul=df['Fields Goal'].quantile(.75)+1.5*iqr\n",
    "print('UL',ul)"
   ]
  },
  {
   "cell_type": "code",
   "execution_count": 12,
   "id": "3265ef1c",
   "metadata": {},
   "outputs": [
    {
     "data": {
      "text/plain": [
       "62"
      ]
     },
     "execution_count": 12,
     "metadata": {},
     "output_type": "execute_result"
    }
   ],
   "source": [
    "len(df[df['Fields Goal']>ul])"
   ]
  },
  {
   "cell_type": "code",
   "execution_count": 13,
   "id": "b4886a41",
   "metadata": {},
   "outputs": [],
   "source": [
    "df=df[df['Fields Goal']<=ul]"
   ]
  },
  {
   "cell_type": "code",
   "execution_count": 14,
   "id": "09e1acd4",
   "metadata": {},
   "outputs": [
    {
     "data": {
      "text/plain": [
       "(2666, 25)"
      ]
     },
     "execution_count": 14,
     "metadata": {},
     "output_type": "execute_result"
    }
   ],
   "source": [
    "df.shape"
   ]
  },
  {
   "cell_type": "code",
   "execution_count": 15,
   "id": "f743f9a6",
   "metadata": {},
   "outputs": [
    {
     "data": {
      "text/plain": [
       "SG       621\n",
       "PF       541\n",
       "C        506\n",
       "PG       496\n",
       "SF       456\n",
       "SF-SG      8\n",
       "SF-PF      7\n",
       "PF-SF      6\n",
       "PF-C       6\n",
       "SG-PG      5\n",
       "C-PF       5\n",
       "SG-SF      4\n",
       "PG-SG      3\n",
       "SF-C       1\n",
       "SG-PF      1\n",
       "Name: Pos, dtype: int64"
      ]
     },
     "execution_count": 15,
     "metadata": {},
     "output_type": "execute_result"
    }
   ],
   "source": [
    "df['Pos'].value_counts()"
   ]
  },
  {
   "cell_type": "code",
   "execution_count": 16,
   "id": "f49d06f9",
   "metadata": {},
   "outputs": [
    {
     "name": "stderr",
     "output_type": "stream",
     "text": [
      "C:\\ProgramData\\Anaconda3\\lib\\site-packages\\seaborn\\_decorators.py:36: FutureWarning: Pass the following variable as a keyword arg: x. From version 0.12, the only valid positional argument will be `data`, and passing other arguments without an explicit keyword will result in an error or misinterpretation.\n",
      "  warnings.warn(\n"
     ]
    },
    {
     "data": {
      "text/plain": [
       "<AxesSubplot:xlabel='Pos', ylabel='count'>"
      ]
     },
     "execution_count": 16,
     "metadata": {},
     "output_type": "execute_result"
    },
    {
     "data": {
      "image/png": "[encoded data removed]",
      "text/plain": [
       "<Figure size 432x288 with 1 Axes>"
      ]
     },
     "metadata": {
      "needs_background": "light"
     },
     "output_type": "display_data"
    }
   ],
   "source": [
    "sns.countplot(df['Pos'])"
   ]
  },
  {
   "cell_type": "code",
   "execution_count": 17,
   "id": "62be2b33",
   "metadata": {},
   "outputs": [
    {
     "data": {
      "text/plain": [
       "23    272\n",
       "22    261\n",
       "24    250\n",
       "26    230\n",
       "25    228\n",
       "27    213\n",
       "28    196\n",
       "21    178\n",
       "29    141\n",
       "30    139\n",
       "20    115\n",
       "31    110\n",
       "32     85\n",
       "33     72\n",
       "34     53\n",
       "19     43\n",
       "35     28\n",
       "36     21\n",
       "37     13\n",
       "38      8\n",
       "40      4\n",
       "39      3\n",
       "42      1\n",
       "41      1\n",
       "43      1\n",
       "Name: Age, dtype: int64"
      ]
     },
     "execution_count": 17,
     "metadata": {},
     "output_type": "execute_result"
    }
   ],
   "source": [
    "df['Age'].value_counts()"
   ]
  },
  {
   "cell_type": "code",
   "execution_count": 18,
   "id": "1a422a41",
   "metadata": {},
   "outputs": [
    {
     "name": "stderr",
     "output_type": "stream",
     "text": [
      "C:\\ProgramData\\Anaconda3\\lib\\site-packages\\seaborn\\_decorators.py:36: FutureWarning: Pass the following variable as a keyword arg: x. From version 0.12, the only valid positional argument will be `data`, and passing other arguments without an explicit keyword will result in an error or misinterpretation.\n",
      "  warnings.warn(\n"
     ]
    },
    {
     "data": {
      "text/plain": [
       "<AxesSubplot:xlabel='Age', ylabel='count'>"
      ]
     },
     "execution_count": 18,
     "metadata": {},
     "output_type": "execute_result"
    },
    {
     "data": {
      "image/png": "[encoded data removed]",
      "text/plain": [
       "<Figure size 432x288 with 1 Axes>"
      ]
     },
     "metadata": {
      "needs_background": "light"
     },
     "output_type": "display_data"
    }
   ],
   "source": [
    "sns.countplot(df['Age'])"
   ]
  },
  {
   "cell_type": "code",
   "execution_count": 19,
   "id": "d9036f66",
   "metadata": {},
   "outputs": [
    {
     "data": {
      "text/plain": [
       "TOT    283\n",
       "HOU     94\n",
       "CLE     93\n",
       "MEM     91\n",
       "BRK     89\n",
       "PHI     89\n",
       "DET     85\n",
       "SAC     84\n",
       "MIL     83\n",
       "ATL     82\n",
       "WAS     81\n",
       "ORL     81\n",
       "LAC     81\n",
       "LAL     81\n",
       "DAL     80\n",
       "NYK     80\n",
       "TOR     79\n",
       "PHO     79\n",
       "MIA     79\n",
       "CHI     79\n",
       "DEN     78\n",
       "NOP     77\n",
       "MIN     75\n",
       "UTA     75\n",
       "IND     73\n",
       "OKC     73\n",
       "BOS     71\n",
       "GSW     70\n",
       "SAS     68\n",
       "POR     67\n",
       "CHO     66\n",
       "Name: Team, dtype: int64"
      ]
     },
     "execution_count": 19,
     "metadata": {},
     "output_type": "execute_result"
    }
   ],
   "source": [
    "df['Team'].value_counts()"
   ]
  },
  {
   "cell_type": "code",
   "execution_count": 20,
   "id": "e922b32a",
   "metadata": {},
   "outputs": [
    {
     "name": "stderr",
     "output_type": "stream",
     "text": [
      "C:\\ProgramData\\Anaconda3\\lib\\site-packages\\seaborn\\_decorators.py:36: FutureWarning: Pass the following variable as a keyword arg: x. From version 0.12, the only valid positional argument will be `data`, and passing other arguments without an explicit keyword will result in an error or misinterpretation.\n",
      "  warnings.warn(\n"
     ]
    },
    {
     "data": {
      "text/plain": [
       "<AxesSubplot:xlabel='Team', ylabel='count'>"
      ]
     },
     "execution_count": 20,
     "metadata": {},
     "output_type": "execute_result"
    },
    {
     "data": {
      "image/png": "[encoded data removed]",
      "text/plain": [
       "<Figure size 432x288 with 1 Axes>"
      ]
     },
     "metadata": {
      "needs_background": "light"
     },
     "output_type": "display_data"
    }
   ],
   "source": [
    "sns.countplot(df['Team'])"
   ]
  },
  {
   "cell_type": "code",
   "execution_count": 21,
   "id": "6294815b",
   "metadata": {},
   "outputs": [
    {
     "data": {
      "text/plain": [
       "1     57\n",
       "4     57\n",
       "3     53\n",
       "2     50\n",
       "69    47\n",
       "      ..\n",
       "40    19\n",
       "37    19\n",
       "49    16\n",
       "35    16\n",
       "78    14\n",
       "Name: Games, Length: 82, dtype: int64"
      ]
     },
     "execution_count": 21,
     "metadata": {},
     "output_type": "execute_result"
    }
   ],
   "source": [
    "df['Games'].value_counts()"
   ]
  },
  {
   "cell_type": "code",
   "execution_count": 22,
   "id": "3ca8477b",
   "metadata": {},
   "outputs": [
    {
     "data": {
      "text/plain": [
       "<AxesSubplot:>"
      ]
     },
     "execution_count": 22,
     "metadata": {},
     "output_type": "execute_result"
    },
    {
     "data": {
      "image/png": "[encoded data removed]",
      "text/plain": [
       "<Figure size 432x288 with 1 Axes>"
      ]
     },
     "metadata": {
      "needs_background": "light"
     },
     "output_type": "display_data"
    }
   ],
   "source": [
    "df['Games'].hist()"
   ]
  },
  {
   "cell_type": "code",
   "execution_count": 23,
   "id": "da861c42",
   "metadata": {},
   "outputs": [
    {
     "name": "stderr",
     "output_type": "stream",
     "text": [
      "C:\\ProgramData\\Anaconda3\\lib\\site-packages\\seaborn\\_decorators.py:36: FutureWarning: Pass the following variable as a keyword arg: x. From version 0.12, the only valid positional argument will be `data`, and passing other arguments without an explicit keyword will result in an error or misinterpretation.\n",
      "  warnings.warn(\n"
     ]
    },
    {
     "data": {
      "text/plain": [
       "<AxesSubplot:xlabel='Games'>"
      ]
     },
     "execution_count": 23,
     "metadata": {},
     "output_type": "execute_result"
    },
    {
     "data": {
      "image/png": "[encoded data removed]",
      "text/plain": [
       "<Figure size 432x288 with 1 Axes>"
      ]
     },
     "metadata": {
      "needs_background": "light"
     },
     "output_type": "display_data"
    }
   ],
   "source": [
    "sns.boxplot(df['Games'])"
   ]
  },
  {
   "cell_type": "code",
   "execution_count": 24,
   "id": "ee901087",
   "metadata": {},
   "outputs": [
    {
     "data": {
      "text/plain": [
       "15.8    17\n",
       "12.0    17\n",
       "18.9    17\n",
       "4.0     16\n",
       "2.0     16\n",
       "        ..\n",
       "36.5     1\n",
       "35.7     1\n",
       "35.8     1\n",
       "35.1     1\n",
       "1.5      1\n",
       "Name: Minutes Played, Length: 348, dtype: int64"
      ]
     },
     "execution_count": 24,
     "metadata": {},
     "output_type": "execute_result"
    }
   ],
   "source": [
    "df['Minutes Played'].value_counts()"
   ]
  },
  {
   "cell_type": "code",
   "execution_count": 25,
   "id": "5d68ad58",
   "metadata": {},
   "outputs": [
    {
     "data": {
      "text/plain": [
       "<AxesSubplot:>"
      ]
     },
     "execution_count": 25,
     "metadata": {},
     "output_type": "execute_result"
    },
    {
     "data": {
      "image/png": "[encoded data removed]",
      "text/plain": [
       "<Figure size 432x288 with 1 Axes>"
      ]
     },
     "metadata": {
      "needs_background": "light"
     },
     "output_type": "display_data"
    }
   ],
   "source": [
    "df['Minutes Played'].hist()"
   ]
  },
  {
   "cell_type": "code",
   "execution_count": 26,
   "id": "245e5472",
   "metadata": {},
   "outputs": [
    {
     "name": "stderr",
     "output_type": "stream",
     "text": [
      "C:\\ProgramData\\Anaconda3\\lib\\site-packages\\seaborn\\_decorators.py:36: FutureWarning: Pass the following variable as a keyword arg: x. From version 0.12, the only valid positional argument will be `data`, and passing other arguments without an explicit keyword will result in an error or misinterpretation.\n",
      "  warnings.warn(\n"
     ]
    },
    {
     "data": {
      "text/plain": [
       "<AxesSubplot:xlabel='Minutes Played'>"
      ]
     },
     "execution_count": 26,
     "metadata": {},
     "output_type": "execute_result"
    },
    {
     "data": {
      "image/png": "[encoded data removed]",
      "text/plain": [
       "<Figure size 432x288 with 1 Axes>"
      ]
     },
     "metadata": {
      "needs_background": "light"
     },
     "output_type": "display_data"
    }
   ],
   "source": [
    "sns.boxplot(df['Minutes Played'])"
   ]
  },
  {
   "cell_type": "code",
   "execution_count": 27,
   "id": "ad926ba5",
   "metadata": {},
   "outputs": [
    {
     "data": {
      "text/plain": [
       "1.0    76\n",
       "2.0    71\n",
       "1.3    69\n",
       "2.5    67\n",
       "2.2    66\n",
       "       ..\n",
       "7.9     5\n",
       "6.4     5\n",
       "0.1     5\n",
       "8.6     4\n",
       "8.3     4\n",
       "Name: Fields Goal, Length: 87, dtype: int64"
      ]
     },
     "execution_count": 27,
     "metadata": {},
     "output_type": "execute_result"
    }
   ],
   "source": [
    "df['Fields Goal'].value_counts()"
   ]
  },
  {
   "cell_type": "code",
   "execution_count": 28,
   "id": "48112c74",
   "metadata": {},
   "outputs": [
    {
     "data": {
      "text/plain": [
       "<AxesSubplot:>"
      ]
     },
     "execution_count": 28,
     "metadata": {},
     "output_type": "execute_result"
    },
    {
     "data": {
      "image/png": "[encoded data removed]",
      "text/plain": [
       "<Figure size 432x288 with 1 Axes>"
      ]
     },
     "metadata": {
      "needs_background": "light"
     },
     "output_type": "display_data"
    }
   ],
   "source": [
    "df['Fields Goal'].hist()"
   ]
  },
  {
   "cell_type": "code",
   "execution_count": 29,
   "id": "cb3345ac",
   "metadata": {},
   "outputs": [
    {
     "name": "stderr",
     "output_type": "stream",
     "text": [
      "C:\\ProgramData\\Anaconda3\\lib\\site-packages\\seaborn\\_decorators.py:36: FutureWarning: Pass the following variable as a keyword arg: x. From version 0.12, the only valid positional argument will be `data`, and passing other arguments without an explicit keyword will result in an error or misinterpretation.\n",
      "  warnings.warn(\n"
     ]
    },
    {
     "data": {
      "text/plain": [
       "<AxesSubplot:xlabel='Fields Goal'>"
      ]
     },
     "execution_count": 29,
     "metadata": {},
     "output_type": "execute_result"
    },
    {
     "data": {
      "image/png": "[encoded data removed]",
      "text/plain": [
       "<Figure size 432x288 with 1 Axes>"
      ]
     },
     "metadata": {
      "needs_background": "light"
     },
     "output_type": "display_data"
    }
   ],
   "source": [
    "sns.boxplot(df['Fields Goal'])"
   ]
  },
  {
   "cell_type": "code",
   "execution_count": 30,
   "id": "6398f50e",
   "metadata": {},
   "outputs": [
    {
     "name": "stdout",
     "output_type": "stream",
     "text": [
      "IQR 2.6999999999999997\n",
      "UL 8.149999999999999\n",
      "LL -2.65\n"
     ]
    }
   ],
   "source": [
    "iqr=df['Fields Goal'].quantile(.75)-df['Fields Goal'].quantile(.25)\n",
    "print('IQR',iqr)\n",
    "ul=df['Fields Goal'].quantile(.75)+1.5*iqr\n",
    "print('UL',ul)\n",
    "ll=df['Fields Goal'].quantile(.25)-1.5*iqr\n",
    "print('LL',ll)"
   ]
  },
  {
   "cell_type": "code",
   "execution_count": 31,
   "id": "e2036594",
   "metadata": {},
   "outputs": [
    {
     "data": {
      "text/plain": [
       "33"
      ]
     },
     "execution_count": 31,
     "metadata": {},
     "output_type": "execute_result"
    }
   ],
   "source": [
    "len(df[df['Fields Goal']>ul])"
   ]
  },
  {
   "cell_type": "code",
   "execution_count": 32,
   "id": "5a0b47b1",
   "metadata": {},
   "outputs": [
    {
     "data": {
      "text/plain": [
       "1.0     47\n",
       "2.0     44\n",
       "3.0     41\n",
       "4.4     36\n",
       "3.5     36\n",
       "        ..\n",
       "17.8     1\n",
       "19.9     1\n",
       "18.5     1\n",
       "19.1     1\n",
       "0.2      1\n",
       "Name: Fields Goal Attempted, Length: 193, dtype: int64"
      ]
     },
     "execution_count": 32,
     "metadata": {},
     "output_type": "execute_result"
    }
   ],
   "source": [
    " df['Fields Goal Attempted'].value_counts()"
   ]
  },
  {
   "cell_type": "code",
   "execution_count": 33,
   "id": "aafda5b4",
   "metadata": {},
   "outputs": [
    {
     "data": {
      "text/plain": [
       "<AxesSubplot:>"
      ]
     },
     "execution_count": 33,
     "metadata": {},
     "output_type": "execute_result"
    },
    {
     "data": {
      "image/png": "[encoded data removed]",
      "text/plain": [
       "<Figure size 432x288 with 1 Axes>"
      ]
     },
     "metadata": {
      "needs_background": "light"
     },
     "output_type": "display_data"
    }
   ],
   "source": [
    "df['Fields Goal Attempted'].hist()"
   ]
  },
  {
   "cell_type": "code",
   "execution_count": 34,
   "id": "4a45706c",
   "metadata": {},
   "outputs": [
    {
     "name": "stderr",
     "output_type": "stream",
     "text": [
      "C:\\ProgramData\\Anaconda3\\lib\\site-packages\\seaborn\\_decorators.py:36: FutureWarning: Pass the following variable as a keyword arg: x. From version 0.12, the only valid positional argument will be `data`, and passing other arguments without an explicit keyword will result in an error or misinterpretation.\n",
      "  warnings.warn(\n"
     ]
    },
    {
     "data": {
      "text/plain": [
       "<AxesSubplot:xlabel='Fields Goal Attempted'>"
      ]
     },
     "execution_count": 34,
     "metadata": {},
     "output_type": "execute_result"
    },
    {
     "data": {
      "image/png": "[encoded data removed]",
      "text/plain": [
       "<Figure size 432x288 with 1 Axes>"
      ]
     },
     "metadata": {
      "needs_background": "light"
     },
     "output_type": "display_data"
    }
   ],
   "source": [
    "sns.boxplot(df['Fields Goal Attempted'])"
   ]
  },
  {
   "cell_type": "code",
   "execution_count": 35,
   "id": "e3d89798",
   "metadata": {},
   "outputs": [
    {
     "name": "stdout",
     "output_type": "stream",
     "text": [
      "IQR 5.7\n",
      "UL 17.55\n",
      "LL -5.250000000000001\n"
     ]
    }
   ],
   "source": [
    "iqr=df['Fields Goal Attempted'].quantile(.75)-df['Fields Goal Attempted'].quantile(.25)\n",
    "print('IQR',iqr)\n",
    "ul=df['Fields Goal Attempted'].quantile(.75)+1.5*iqr\n",
    "print('UL',ul)\n",
    "ll=df['Fields Goal Attempted'].quantile(.25)-1.5*iqr\n",
    "print('LL',ll)"
   ]
  },
  {
   "cell_type": "code",
   "execution_count": 36,
   "id": "407467e7",
   "metadata": {},
   "outputs": [
    {
     "data": {
      "text/plain": [
       "32"
      ]
     },
     "execution_count": 36,
     "metadata": {},
     "output_type": "execute_result"
    }
   ],
   "source": [
    "len(df['Fields Goal Attempted'][df['Fields Goal Attempted']>ul])"
   ]
  },
  {
   "cell_type": "code",
   "execution_count": 37,
   "id": "080f85b3",
   "metadata": {},
   "outputs": [],
   "source": [
    "df=df[df['Fields Goal Attempted']<=ul]"
   ]
  },
  {
   "cell_type": "code",
   "execution_count": 38,
   "id": "04fc7075",
   "metadata": {},
   "outputs": [
    {
     "data": {
      "text/plain": [
       "(2634, 25)"
      ]
     },
     "execution_count": 38,
     "metadata": {},
     "output_type": "execute_result"
    }
   ],
   "source": [
    " df.shape"
   ]
  },
  {
   "cell_type": "code",
   "execution_count": 39,
   "id": "ad074e3c",
   "metadata": {},
   "outputs": [],
   "source": [
    "df=df.drop(['Fields Goal Attempted'],axis=1)"
   ]
  },
  {
   "cell_type": "code",
   "execution_count": 40,
   "id": "eaf77d4b",
   "metadata": {},
   "outputs": [
    {
     "data": {
      "text/plain": [
       "(2634, 24)"
      ]
     },
     "execution_count": 40,
     "metadata": {},
     "output_type": "execute_result"
    }
   ],
   "source": [
    "df.shape"
   ]
  },
  {
   "cell_type": "code",
   "execution_count": 41,
   "id": "10d72b93",
   "metadata": {},
   "outputs": [
    {
     "data": {
      "text/plain": [
       "0.0    467\n",
       "0.3    157\n",
       "0.1    151\n",
       "0.5    140\n",
       "0.8    129\n",
       "1.0    129\n",
       "0.4    127\n",
       "0.6    124\n",
       "0.2    121\n",
       "0.7    116\n",
       "0.9    108\n",
       "1.1    105\n",
       "1.2     75\n",
       "1.5     72\n",
       "1.3     72\n",
       "1.4     69\n",
       "1.8     56\n",
       "1.9     53\n",
       "1.6     52\n",
       "1.7     49\n",
       "2.0     46\n",
       "2.3     33\n",
       "2.1     29\n",
       "2.2     27\n",
       "2.5     25\n",
       "2.4     20\n",
       "2.7     16\n",
       "2.8     12\n",
       "2.6     12\n",
       "2.9      8\n",
       "3.1      7\n",
       "3.0      7\n",
       "3.2      5\n",
       "3.5      4\n",
       "3.3      4\n",
       "3.7      2\n",
       "4.0      2\n",
       "4.2      1\n",
       "3.4      1\n",
       "3.8      1\n",
       "Name: 3-points Field Goal, dtype: int64"
      ]
     },
     "execution_count": 41,
     "metadata": {},
     "output_type": "execute_result"
    }
   ],
   "source": [
    "df['3-points Field Goal'].value_counts()"
   ]
  },
  {
   "cell_type": "code",
   "execution_count": 43,
   "id": "7ea88999",
   "metadata": {},
   "outputs": [
    {
     "data": {
      "text/plain": [
       "<AxesSubplot:>"
      ]
     },
     "execution_count": 43,
     "metadata": {},
     "output_type": "execute_result"
    },
    {
     "data": {
      "image/png": "[encoded data removed]",
      "text/plain": [
       "<Figure size 432x288 with 1 Axes>"
      ]
     },
     "metadata": {
      "needs_background": "light"
     },
     "output_type": "display_data"
    }
   ],
   "source": [
    "df['3-points Field Goal'].hist()"
   ]
  },
  {
   "cell_type": "code",
   "execution_count": 44,
   "id": "c8b9ed33",
   "metadata": {},
   "outputs": [
    {
     "name": "stderr",
     "output_type": "stream",
     "text": [
      "C:\\ProgramData\\Anaconda3\\lib\\site-packages\\seaborn\\_decorators.py:36: FutureWarning: Pass the following variable as a keyword arg: x. From version 0.12, the only valid positional argument will be `data`, and passing other arguments without an explicit keyword will result in an error or misinterpretation.\n",
      "  warnings.warn(\n"
     ]
    },
    {
     "data": {
      "text/plain": [
       "<AxesSubplot:xlabel='3-points Field Goal'>"
      ]
     },
     "execution_count": 44,
     "metadata": {},
     "output_type": "execute_result"
    },
    {
     "data": {
      "image/png": "[encoded data removed]",
      "text/plain": [
       "<Figure size 432x288 with 1 Axes>"
      ]
     },
     "metadata": {
      "needs_background": "light"
     },
     "output_type": "display_data"
    }
   ],
   "source": [
    "sns.boxplot(df['3-points Field Goal'])"
   ]
  },
  {
   "cell_type": "code",
   "execution_count": 45,
   "id": "63218061",
   "metadata": {},
   "outputs": [
    {
     "data": {
      "text/plain": [
       "0.0     227\n",
       "0.1      95\n",
       "1.0      75\n",
       "0.5      65\n",
       "2.0      61\n",
       "       ... \n",
       "6.8       1\n",
       "10.2      1\n",
       "9.3       1\n",
       "10.0      1\n",
       "9.6       1\n",
       "Name: 3-points Field Goal Attempted, Length: 94, dtype: int64"
      ]
     },
     "execution_count": 45,
     "metadata": {},
     "output_type": "execute_result"
    }
   ],
   "source": [
    "df['3-points Field Goal Attempted'].value_counts()"
   ]
  },
  {
   "cell_type": "code",
   "execution_count": 46,
   "id": "5bcb946f",
   "metadata": {},
   "outputs": [
    {
     "data": {
      "text/plain": [
       "<AxesSubplot:>"
      ]
     },
     "execution_count": 46,
     "metadata": {},
     "output_type": "execute_result"
    },
    {
     "data": {
      "image/png": "[encoded data removed]",
      "text/plain": [
       "<Figure size 432x288 with 1 Axes>"
      ]
     },
     "metadata": {
      "needs_background": "light"
     },
     "output_type": "display_data"
    }
   ],
   "source": [
    "df['3-points Field Goal Attempted'].hist()"
   ]
  },
  {
   "cell_type": "code",
   "execution_count": 47,
   "id": "721994a5",
   "metadata": {},
   "outputs": [
    {
     "name": "stderr",
     "output_type": "stream",
     "text": [
      "C:\\ProgramData\\Anaconda3\\lib\\site-packages\\seaborn\\_decorators.py:36: FutureWarning: Pass the following variable as a keyword arg: x. From version 0.12, the only valid positional argument will be `data`, and passing other arguments without an explicit keyword will result in an error or misinterpretation.\n",
      "  warnings.warn(\n"
     ]
    },
    {
     "data": {
      "text/plain": [
       "<AxesSubplot:xlabel='3-points Field Goal Attempted'>"
      ]
     },
     "execution_count": 47,
     "metadata": {},
     "output_type": "execute_result"
    },
    {
     "data": {
      "image/png": "[encoded data removed]",
      "text/plain": [
       "<Figure size 432x288 with 1 Axes>"
      ]
     },
     "metadata": {
      "needs_background": "light"
     },
     "output_type": "display_data"
    }
   ],
   "source": [
    "sns.boxplot(df['3-points Field Goal Attempted'])"
   ]
  },
  {
   "cell_type": "code",
   "execution_count": 120,
   "id": "4b9ff355",
   "metadata": {},
   "outputs": [
    {
     "name": "stdout",
     "output_type": "stream",
     "text": [
      "IQR 2.8\n",
      "UL 7.699999999999999\n",
      "LL -3.499999999999999\n"
     ]
    }
   ],
   "source": [
    "iqr=df['3-points Field Goal Attempted'].quantile(.75)-df['3-points Field Goal Attempted'].quantile(.25)\n",
    "print('IQR',iqr)\n",
    "ul=df['3-points Field Goal Attempted'].quantile(.75)+1.5*iqr\n",
    "print('UL',ul)\n",
    "ll=df['3-points Field Goal Attempted'].quantile(.25)-1.5*iqr\n",
    "print('LL',ll)"
   ]
  },
  {
   "cell_type": "code",
   "execution_count": 121,
   "id": "c7318b12",
   "metadata": {},
   "outputs": [
    {
     "data": {
      "text/plain": [
       "2"
      ]
     },
     "execution_count": 121,
     "metadata": {},
     "output_type": "execute_result"
    }
   ],
   "source": [
    "len(df['3-points Field Goal Attempted'][df['3-points Field Goal Attempted']>ul])"
   ]
  },
  {
   "cell_type": "code",
   "execution_count": 50,
   "id": "e5984727",
   "metadata": {},
   "outputs": [],
   "source": [
    "df=df[df['3-points Field Goal Attempted']<=ul]"
   ]
  },
  {
   "cell_type": "code",
   "execution_count": 51,
   "id": "85f83c03",
   "metadata": {},
   "outputs": [
    {
     "data": {
      "text/plain": [
       "(2605, 24)"
      ]
     },
     "execution_count": 51,
     "metadata": {},
     "output_type": "execute_result"
    }
   ],
   "source": [
    "df.shape"
   ]
  },
  {
   "cell_type": "code",
   "execution_count": 52,
   "id": "cfa83d6d",
   "metadata": {},
   "outputs": [
    {
     "data": {
      "text/plain": [
       "0.5    101\n",
       "0.9     96\n",
       "0.0     95\n",
       "1.0     95\n",
       "1.4     87\n",
       "      ... \n",
       "6.9      1\n",
       "7.8      1\n",
       "8.3      1\n",
       "7.5      1\n",
       "7.3      1\n",
       "Name: 2-points Field Goal, Length: 80, dtype: int64"
      ]
     },
     "execution_count": 52,
     "metadata": {},
     "output_type": "execute_result"
    }
   ],
   "source": [
    "df['2-points Field Goal'].value_counts()"
   ]
  },
  {
   "cell_type": "code",
   "execution_count": 53,
   "id": "d0e9e1ae",
   "metadata": {},
   "outputs": [
    {
     "data": {
      "text/plain": [
       "<AxesSubplot:>"
      ]
     },
     "execution_count": 53,
     "metadata": {},
     "output_type": "execute_result"
    },
    {
     "data": {
      "image/png": "[encoded data removed]",
      "text/plain": [
       "<Figure size 432x288 with 1 Axes>"
      ]
     },
     "metadata": {
      "needs_background": "light"
     },
     "output_type": "display_data"
    }
   ],
   "source": [
    "df['2-points Field Goal'].hist()"
   ]
  },
  {
   "cell_type": "code",
   "execution_count": 54,
   "id": "78052255",
   "metadata": {},
   "outputs": [
    {
     "name": "stderr",
     "output_type": "stream",
     "text": [
      "C:\\ProgramData\\Anaconda3\\lib\\site-packages\\seaborn\\_decorators.py:36: FutureWarning: Pass the following variable as a keyword arg: x. From version 0.12, the only valid positional argument will be `data`, and passing other arguments without an explicit keyword will result in an error or misinterpretation.\n",
      "  warnings.warn(\n"
     ]
    },
    {
     "data": {
      "text/plain": [
       "<AxesSubplot:xlabel='2-points Field Goal'>"
      ]
     },
     "execution_count": 54,
     "metadata": {},
     "output_type": "execute_result"
    },
    {
     "data": {
      "image/png": "[encoded data removed]",
      "text/plain": [
       "<Figure size 432x288 with 1 Axes>"
      ]
     },
     "metadata": {
      "needs_background": "light"
     },
     "output_type": "display_data"
    }
   ],
   "source": [
    "sns.boxplot(df['2-points Field Goal'])"
   ]
  },
  {
   "cell_type": "code",
   "execution_count": 55,
   "id": "47196824",
   "metadata": {},
   "outputs": [
    {
     "name": "stdout",
     "output_type": "stream",
     "text": [
      "IQR 1.9\n",
      "UL 5.6499999999999995\n",
      "LL -1.9499999999999997\n"
     ]
    }
   ],
   "source": [
    "iqr=df['2-points Field Goal'].quantile(.75)-df['2-points Field Goal'].quantile(.25)\n",
    "print('IQR',iqr)\n",
    "ul=df['2-points Field Goal'].quantile(.75)+1.5*iqr\n",
    "print('UL',ul)\n",
    "ll=df['2-points Field Goal'].quantile(.25)-1.5*iqr\n",
    "print('LL',ll)"
   ]
  },
  {
   "cell_type": "code",
   "execution_count": 56,
   "id": "382db6c8",
   "metadata": {},
   "outputs": [
    {
     "data": {
      "text/plain": [
       "87"
      ]
     },
     "execution_count": 56,
     "metadata": {},
     "output_type": "execute_result"
    }
   ],
   "source": [
    "len(df[df['2-points Field Goal']>ul])"
   ]
  },
  {
   "cell_type": "code",
   "execution_count": 57,
   "id": "7936258e",
   "metadata": {},
   "outputs": [
    {
     "data": {
      "text/plain": [
       "2.0     69\n",
       "1.0     67\n",
       "3.0     60\n",
       "2.8     58\n",
       "1.5     55\n",
       "        ..\n",
       "13.1     1\n",
       "15.0     1\n",
       "13.2     1\n",
       "15.8     1\n",
       "14.3     1\n",
       "Name: 2-points Field Goal Attempted, Length: 138, dtype: int64"
      ]
     },
     "execution_count": 57,
     "metadata": {},
     "output_type": "execute_result"
    }
   ],
   "source": [
    "df['2-points Field Goal Attempted'].value_counts()"
   ]
  },
  {
   "cell_type": "code",
   "execution_count": 58,
   "id": "ecc92cc6",
   "metadata": {},
   "outputs": [
    {
     "data": {
      "text/plain": [
       "<AxesSubplot:>"
      ]
     },
     "execution_count": 58,
     "metadata": {},
     "output_type": "execute_result"
    },
    {
     "data": {
      "image/png": "[encoded data removed]",
      "text/plain": [
       "<Figure size 432x288 with 1 Axes>"
      ]
     },
     "metadata": {
      "needs_background": "light"
     },
     "output_type": "display_data"
    }
   ],
   "source": [
    "df['2-points Field Goal Attempted'].hist()"
   ]
  },
  {
   "cell_type": "code",
   "execution_count": 59,
   "id": "b0efddde",
   "metadata": {},
   "outputs": [
    {
     "name": "stderr",
     "output_type": "stream",
     "text": [
      "C:\\ProgramData\\Anaconda3\\lib\\site-packages\\seaborn\\_decorators.py:36: FutureWarning: Pass the following variable as a keyword arg: x. From version 0.12, the only valid positional argument will be `data`, and passing other arguments without an explicit keyword will result in an error or misinterpretation.\n",
      "  warnings.warn(\n"
     ]
    },
    {
     "data": {
      "text/plain": [
       "<AxesSubplot:xlabel='2-points Field Goal Attempted'>"
      ]
     },
     "execution_count": 59,
     "metadata": {},
     "output_type": "execute_result"
    },
    {
     "data": {
      "image/png": "[encoded data removed]",
      "text/plain": [
       "<Figure size 432x288 with 1 Axes>"
      ]
     },
     "metadata": {
      "needs_background": "light"
     },
     "output_type": "display_data"
    }
   ],
   "source": [
    "sns.boxplot(df['2-points Field Goal Attempted'])"
   ]
  },
  {
   "cell_type": "code",
   "execution_count": 60,
   "id": "89bf5562",
   "metadata": {},
   "outputs": [
    {
     "name": "stdout",
     "output_type": "stream",
     "text": [
      "IQR 3.6000000000000005\n",
      "UL 10.8\n",
      "LL -3.6000000000000005\n"
     ]
    }
   ],
   "source": [
    "iqr=df['2-points Field Goal Attempted'].quantile(.75)-df['2-points Field Goal Attempted'].quantile(.25)\n",
    "print('IQR',iqr)\n",
    "ul=df['2-points Field Goal Attempted'].quantile(.75)+1.5*iqr\n",
    "print('UL',ul)\n",
    "ll=df['2-points Field Goal Attempted'].quantile(.25)-1.5*iqr\n",
    "print('LL',ll)"
   ]
  },
  {
   "cell_type": "code",
   "execution_count": 61,
   "id": "861cb625",
   "metadata": {},
   "outputs": [
    {
     "data": {
      "text/plain": [
       "86"
      ]
     },
     "execution_count": 61,
     "metadata": {},
     "output_type": "execute_result"
    }
   ],
   "source": [
    "len(df[df['2-points Field Goal Attempted']>ul])"
   ]
  },
  {
   "cell_type": "code",
   "execution_count": 62,
   "id": "866d5d55",
   "metadata": {},
   "outputs": [
    {
     "data": {
      "text/plain": [
       "0.0    190\n",
       "0.5    161\n",
       "0.4    160\n",
       "0.7    157\n",
       "0.8    154\n",
       "0.3    149\n",
       "1.0    128\n",
       "0.6    126\n",
       "0.9    121\n",
       "1.1     95\n",
       "0.2     92\n",
       "1.3     89\n",
       "1.2     86\n",
       "1.5     72\n",
       "0.1     69\n",
       "1.6     69\n",
       "1.4     64\n",
       "1.7     60\n",
       "1.9     58\n",
       "2.0     56\n",
       "1.8     52\n",
       "2.1     35\n",
       "2.2     33\n",
       "2.4     31\n",
       "2.3     30\n",
       "2.7     25\n",
       "2.5     24\n",
       "2.6     23\n",
       "3.0     21\n",
       "2.9     20\n",
       "3.4     16\n",
       "2.8     14\n",
       "3.2     12\n",
       "3.1     11\n",
       "3.7     10\n",
       "3.5     10\n",
       "3.6      7\n",
       "4.3      7\n",
       "3.9      7\n",
       "3.3      7\n",
       "3.8      6\n",
       "4.2      6\n",
       "4.0      5\n",
       "4.8      5\n",
       "4.4      4\n",
       "6.3      3\n",
       "5.4      3\n",
       "4.5      3\n",
       "4.1      3\n",
       "5.3      2\n",
       "4.7      2\n",
       "5.7      2\n",
       "4.9      2\n",
       "6.9      2\n",
       "6.2      1\n",
       "7.6      1\n",
       "7.0      1\n",
       "5.5      1\n",
       "5.2      1\n",
       "5.6      1\n",
       "Name: Free Throws, dtype: int64"
      ]
     },
     "execution_count": 62,
     "metadata": {},
     "output_type": "execute_result"
    }
   ],
   "source": [
    "df['Free Throws'].value_counts()"
   ]
  },
  {
   "cell_type": "code",
   "execution_count": 63,
   "id": "74d6749f",
   "metadata": {},
   "outputs": [
    {
     "data": {
      "text/plain": [
       "<AxesSubplot:>"
      ]
     },
     "execution_count": 63,
     "metadata": {},
     "output_type": "execute_result"
    },
    {
     "data": {
      "image/png": "[encoded data removed]",
      "text/plain": [
       "<Figure size 432x288 with 1 Axes>"
      ]
     },
     "metadata": {
      "needs_background": "light"
     },
     "output_type": "display_data"
    }
   ],
   "source": [
    "df['Free Throws'].hist()"
   ]
  },
  {
   "cell_type": "code",
   "execution_count": 64,
   "id": "073e368d",
   "metadata": {},
   "outputs": [
    {
     "name": "stderr",
     "output_type": "stream",
     "text": [
      "C:\\ProgramData\\Anaconda3\\lib\\site-packages\\seaborn\\_decorators.py:36: FutureWarning: Pass the following variable as a keyword arg: x. From version 0.12, the only valid positional argument will be `data`, and passing other arguments without an explicit keyword will result in an error or misinterpretation.\n",
      "  warnings.warn(\n"
     ]
    },
    {
     "data": {
      "text/plain": [
       "<AxesSubplot:xlabel='Free Throws'>"
      ]
     },
     "execution_count": 64,
     "metadata": {},
     "output_type": "execute_result"
    },
    {
     "data": {
      "image/png": "[encoded data removed]",
      "text/plain": [
       "<Figure size 432x288 with 1 Axes>"
      ]
     },
     "metadata": {
      "needs_background": "light"
     },
     "output_type": "display_data"
    }
   ],
   "source": [
    "sns.boxplot(df['Free Throws'])"
   ]
  },
  {
   "cell_type": "code",
   "execution_count": 65,
   "id": "7db8d81c",
   "metadata": {},
   "outputs": [
    {
     "name": "stdout",
     "output_type": "stream",
     "text": [
      "IQR 1.2000000000000002\n",
      "UL 3.4000000000000004\n",
      "LL -1.4000000000000004\n"
     ]
    }
   ],
   "source": [
    "iqr=df['Free Throws'].quantile(.75)-df['Free Throws'].quantile(.25)\n",
    "print('IQR',iqr)\n",
    "ul=df['Free Throws'].quantile(.75)+1.5*iqr\n",
    "print('UL',ul)\n",
    "ll=df['Free Throws'].quantile(.25)-1.5*iqr\n",
    "print('LL',ll)"
   ]
  },
  {
   "cell_type": "code",
   "execution_count": 66,
   "id": "fde109f2",
   "metadata": {},
   "outputs": [
    {
     "data": {
      "text/plain": [
       "95"
      ]
     },
     "execution_count": 66,
     "metadata": {},
     "output_type": "execute_result"
    }
   ],
   "source": [
    "len(df[df['Free Throws']>ul])"
   ]
  },
  {
   "cell_type": "code",
   "execution_count": 67,
   "id": "9075fbc2",
   "metadata": {},
   "outputs": [
    {
     "data": {
      "text/plain": [
       "(2605, 24)"
      ]
     },
     "execution_count": 67,
     "metadata": {},
     "output_type": "execute_result"
    }
   ],
   "source": [
    "df.shape"
   ]
  },
  {
   "cell_type": "code",
   "execution_count": 68,
   "id": "a89291ce",
   "metadata": {},
   "outputs": [
    {
     "data": {
      "text/plain": [
       "17.565485362095533"
      ]
     },
     "execution_count": 68,
     "metadata": {},
     "output_type": "execute_result"
    }
   ],
   "source": [
    "456/2596*100"
   ]
  },
  {
   "cell_type": "code",
   "execution_count": 69,
   "id": "312f1185",
   "metadata": {},
   "outputs": [
    {
     "data": {
      "text/plain": [
       "0.0    165\n",
       "1.0    131\n",
       "0.9    124\n",
       "0.5    124\n",
       "0.8    124\n",
       "      ... \n",
       "9.1      1\n",
       "6.1      1\n",
       "6.0      1\n",
       "8.5      1\n",
       "5.8      1\n",
       "Name: Free Throws Attempted, Length: 74, dtype: int64"
      ]
     },
     "execution_count": 69,
     "metadata": {},
     "output_type": "execute_result"
    }
   ],
   "source": [
    "df['Free Throws Attempted'].value_counts()"
   ]
  },
  {
   "cell_type": "code",
   "execution_count": 70,
   "id": "2f195f3e",
   "metadata": {},
   "outputs": [
    {
     "data": {
      "text/plain": [
       "<AxesSubplot:>"
      ]
     },
     "execution_count": 70,
     "metadata": {},
     "output_type": "execute_result"
    },
    {
     "data": {
      "image/png": "[encoded data removed]",
      "text/plain": [
       "<Figure size 432x288 with 1 Axes>"
      ]
     },
     "metadata": {
      "needs_background": "light"
     },
     "output_type": "display_data"
    }
   ],
   "source": [
    "df['Free Throws Attempted'].hist()"
   ]
  },
  {
   "cell_type": "code",
   "execution_count": 71,
   "id": "cf9afbd8",
   "metadata": {},
   "outputs": [
    {
     "name": "stderr",
     "output_type": "stream",
     "text": [
      "C:\\ProgramData\\Anaconda3\\lib\\site-packages\\seaborn\\_decorators.py:36: FutureWarning: Pass the following variable as a keyword arg: x. From version 0.12, the only valid positional argument will be `data`, and passing other arguments without an explicit keyword will result in an error or misinterpretation.\n",
      "  warnings.warn(\n"
     ]
    },
    {
     "data": {
      "text/plain": [
       "<AxesSubplot:xlabel='Free Throws Attempted'>"
      ]
     },
     "execution_count": 71,
     "metadata": {},
     "output_type": "execute_result"
    },
    {
     "data": {
      "image/png": "[encoded data removed]",
      "text/plain": [
       "<Figure size 432x288 with 1 Axes>"
      ]
     },
     "metadata": {
      "needs_background": "light"
     },
     "output_type": "display_data"
    }
   ],
   "source": [
    "sns.boxplot(df['Free Throws Attempted'])"
   ]
  },
  {
   "cell_type": "code",
   "execution_count": 72,
   "id": "c9b9d068",
   "metadata": {},
   "outputs": [
    {
     "name": "stdout",
     "output_type": "stream",
     "text": [
      "IQR 1.5\n",
      "UL 4.35\n",
      "LL -1.65\n"
     ]
    }
   ],
   "source": [
    "iqr=df['Free Throws Attempted'].quantile(.75)-df['Free Throws Attempted'].quantile(.25)\n",
    "print('IQR',iqr)\n",
    "ul=df['Free Throws Attempted'].quantile(.75)+1.5*iqr\n",
    "print('UL',ul)\n",
    "ll=df['Free Throws Attempted'].quantile(.25)-1.5*iqr\n",
    "print('LL',ll)"
   ]
  },
  {
   "cell_type": "code",
   "execution_count": 73,
   "id": "2e340dd6",
   "metadata": {},
   "outputs": [
    {
     "data": {
      "text/plain": [
       "106"
      ]
     },
     "execution_count": 73,
     "metadata": {},
     "output_type": "execute_result"
    }
   ],
   "source": [
    "len(df[df['Free Throws Attempted']>ul])"
   ]
  },
  {
   "cell_type": "code",
   "execution_count": 74,
   "id": "5f1fa19c",
   "metadata": {},
   "outputs": [
    {
     "data": {
      "text/plain": [
       "0.3    299\n",
       "0.5    242\n",
       "0.4    224\n",
       "0.2    206\n",
       "0.0    172\n",
       "0.6    160\n",
       "0.7    150\n",
       "0.8    144\n",
       "0.1    131\n",
       "1.0    125\n",
       "0.9    112\n",
       "1.1     77\n",
       "1.2     70\n",
       "1.4     62\n",
       "1.3     60\n",
       "1.6     48\n",
       "1.5     43\n",
       "1.7     34\n",
       "2.0     30\n",
       "1.8     29\n",
       "1.9     21\n",
       "2.2     20\n",
       "2.1     16\n",
       "2.4     15\n",
       "2.3     14\n",
       "2.5     12\n",
       "2.6     11\n",
       "2.7      9\n",
       "3.1      8\n",
       "3.2      6\n",
       "3.0      6\n",
       "2.8      6\n",
       "2.9      6\n",
       "3.3      5\n",
       "3.6      5\n",
       "3.9      4\n",
       "3.4      4\n",
       "3.8      3\n",
       "4.0      3\n",
       "4.3      2\n",
       "5.1      2\n",
       "4.4      2\n",
       "3.7      2\n",
       "4.7      1\n",
       "4.1      1\n",
       "4.6      1\n",
       "5.4      1\n",
       "4.9      1\n",
       "Name: Offensive Rebounds, dtype: int64"
      ]
     },
     "execution_count": 74,
     "metadata": {},
     "output_type": "execute_result"
    }
   ],
   "source": [
    "df['Offensive Rebounds'].value_counts()"
   ]
  },
  {
   "cell_type": "code",
   "execution_count": 76,
   "id": "ea7dd477",
   "metadata": {},
   "outputs": [
    {
     "data": {
      "text/plain": [
       "<AxesSubplot:>"
      ]
     },
     "execution_count": 76,
     "metadata": {},
     "output_type": "execute_result"
    },
    {
     "data": {
      "image/png": "[encoded data removed]",
      "text/plain": [
       "<Figure size 432x288 with 1 Axes>"
      ]
     },
     "metadata": {
      "needs_background": "light"
     },
     "output_type": "display_data"
    }
   ],
   "source": [
    "df['Offensive Rebounds'].hist()"
   ]
  },
  {
   "cell_type": "code",
   "execution_count": 77,
   "id": "029b73cf",
   "metadata": {},
   "outputs": [
    {
     "name": "stderr",
     "output_type": "stream",
     "text": [
      "C:\\ProgramData\\Anaconda3\\lib\\site-packages\\seaborn\\_decorators.py:36: FutureWarning: Pass the following variable as a keyword arg: x. From version 0.12, the only valid positional argument will be `data`, and passing other arguments without an explicit keyword will result in an error or misinterpretation.\n",
      "  warnings.warn(\n"
     ]
    },
    {
     "data": {
      "text/plain": [
       "<AxesSubplot:xlabel='Offensive Rebounds'>"
      ]
     },
     "execution_count": 77,
     "metadata": {},
     "output_type": "execute_result"
    },
    {
     "data": {
      "image/png": "[encoded data removed]",
      "text/plain": [
       "<Figure size 432x288 with 1 Axes>"
      ]
     },
     "metadata": {
      "needs_background": "light"
     },
     "output_type": "display_data"
    }
   ],
   "source": [
    "sns.boxplot(df['Offensive Rebounds'])"
   ]
  },
  {
   "cell_type": "code",
   "execution_count": 78,
   "id": "d9b9ae01",
   "metadata": {},
   "outputs": [
    {
     "name": "stdout",
     "output_type": "stream",
     "text": [
      "IQR 0.7\n",
      "UL 2.05\n",
      "LL -0.7499999999999998\n"
     ]
    }
   ],
   "source": [
    "iqr=df['Offensive Rebounds'].quantile(.75)-df['Offensive Rebounds'].quantile(.25)\n",
    "print('IQR',iqr)\n",
    "ul=df['Offensive Rebounds'].quantile(.75)+1.5*iqr\n",
    "print('UL',ul)\n",
    "ll=df['Offensive Rebounds'].quantile(.25)-1.5*iqr\n",
    "print('LL',ll)"
   ]
  },
  {
   "cell_type": "code",
   "execution_count": 79,
   "id": "c5641c16",
   "metadata": {},
   "outputs": [
    {
     "data": {
      "text/plain": [
       "166"
      ]
     },
     "execution_count": 79,
     "metadata": {},
     "output_type": "execute_result"
    }
   ],
   "source": [
    "len(df[df['Offensive Rebounds']>ul])"
   ]
  },
  {
   "cell_type": "code",
   "execution_count": 80,
   "id": "0f84f5f9",
   "metadata": {},
   "outputs": [
    {
     "data": {
      "text/plain": [
       "1.8     91\n",
       "2.1     83\n",
       "2.0     80\n",
       "1.0     77\n",
       "2.2     76\n",
       "        ..\n",
       "8.8      1\n",
       "11.2     1\n",
       "8.6      1\n",
       "10.5     1\n",
       "9.3      1\n",
       "Name: Defensive Rebounds, Length: 101, dtype: int64"
      ]
     },
     "execution_count": 80,
     "metadata": {},
     "output_type": "execute_result"
    }
   ],
   "source": [
    "df['Defensive Rebounds'].value_counts()"
   ]
  },
  {
   "cell_type": "code",
   "execution_count": 81,
   "id": "74a7566e",
   "metadata": {},
   "outputs": [
    {
     "data": {
      "text/plain": [
       "<AxesSubplot:>"
      ]
     },
     "execution_count": 81,
     "metadata": {},
     "output_type": "execute_result"
    },
    {
     "data": {
      "image/png": "[encoded data removed]",
      "text/plain": [
       "<Figure size 432x288 with 1 Axes>"
      ]
     },
     "metadata": {
      "needs_background": "light"
     },
     "output_type": "display_data"
    }
   ],
   "source": [
    "df['Defensive Rebounds'].hist()"
   ]
  },
  {
   "cell_type": "code",
   "execution_count": 82,
   "id": "4b843a08",
   "metadata": {},
   "outputs": [
    {
     "name": "stderr",
     "output_type": "stream",
     "text": [
      "C:\\ProgramData\\Anaconda3\\lib\\site-packages\\seaborn\\_decorators.py:36: FutureWarning: Pass the following variable as a keyword arg: x. From version 0.12, the only valid positional argument will be `data`, and passing other arguments without an explicit keyword will result in an error or misinterpretation.\n",
      "  warnings.warn(\n"
     ]
    },
    {
     "data": {
      "text/plain": [
       "<AxesSubplot:xlabel='Defensive Rebounds'>"
      ]
     },
     "execution_count": 82,
     "metadata": {},
     "output_type": "execute_result"
    },
    {
     "data": {
      "image/png": "[encoded data removed]",
      "text/plain": [
       "<Figure size 432x288 with 1 Axes>"
      ]
     },
     "metadata": {
      "needs_background": "light"
     },
     "output_type": "display_data"
    }
   ],
   "source": [
    "sns.boxplot(df['Defensive Rebounds'])"
   ]
  },
  {
   "cell_type": "code",
   "execution_count": 83,
   "id": "23b76b43",
   "metadata": {},
   "outputs": [
    {
     "name": "stdout",
     "output_type": "stream",
     "text": [
      "IQR 2.0\n",
      "UL 6.4\n",
      "LL -1.6\n"
     ]
    }
   ],
   "source": [
    "iqr=df['Defensive Rebounds'].quantile(.75)-df['Defensive Rebounds'].quantile(.25)\n",
    "print('IQR',iqr)\n",
    "ul=df['Defensive Rebounds'].quantile(.75)+1.5*iqr\n",
    "print('UL',ul)\n",
    "ll=df['Defensive Rebounds'].quantile(.25)-1.5*iqr\n",
    "print('LL',ll)"
   ]
  },
  {
   "cell_type": "code",
   "execution_count": 84,
   "id": "db393dd9",
   "metadata": {},
   "outputs": [
    {
     "data": {
      "text/plain": [
       "90"
      ]
     },
     "execution_count": 84,
     "metadata": {},
     "output_type": "execute_result"
    }
   ],
   "source": [
    "len(df[df['Defensive Rebounds']>ul])"
   ]
  },
  {
   "cell_type": "code",
   "execution_count": 85,
   "id": "f6207ea7",
   "metadata": {},
   "outputs": [
    {
     "data": {
      "text/plain": [
       "2.3     73\n",
       "1.0     70\n",
       "1.9     69\n",
       "2.0     63\n",
       "2.5     63\n",
       "        ..\n",
       "16.0     1\n",
       "15.8     1\n",
       "11.5     1\n",
       "11.1     1\n",
       "13.8     1\n",
       "Name: Total Rebounds, Length: 131, dtype: int64"
      ]
     },
     "execution_count": 85,
     "metadata": {},
     "output_type": "execute_result"
    }
   ],
   "source": [
    "df['Total Rebounds'].value_counts()"
   ]
  },
  {
   "cell_type": "code",
   "execution_count": 86,
   "id": "e1a70261",
   "metadata": {},
   "outputs": [
    {
     "data": {
      "text/plain": [
       "<AxesSubplot:>"
      ]
     },
     "execution_count": 86,
     "metadata": {},
     "output_type": "execute_result"
    },
    {
     "data": {
      "image/png": "[encoded data removed]",
      "text/plain": [
       "<Figure size 432x288 with 1 Axes>"
      ]
     },
     "metadata": {
      "needs_background": "light"
     },
     "output_type": "display_data"
    }
   ],
   "source": [
    "df['Total Rebounds'].hist()"
   ]
  },
  {
   "cell_type": "code",
   "execution_count": 87,
   "id": "a68a654e",
   "metadata": {},
   "outputs": [
    {
     "name": "stderr",
     "output_type": "stream",
     "text": [
      "C:\\ProgramData\\Anaconda3\\lib\\site-packages\\seaborn\\_decorators.py:36: FutureWarning: Pass the following variable as a keyword arg: x. From version 0.12, the only valid positional argument will be `data`, and passing other arguments without an explicit keyword will result in an error or misinterpretation.\n",
      "  warnings.warn(\n"
     ]
    },
    {
     "data": {
      "text/plain": [
       "<AxesSubplot:xlabel='Total Rebounds'>"
      ]
     },
     "execution_count": 87,
     "metadata": {},
     "output_type": "execute_result"
    },
    {
     "data": {
      "image/png": "[encoded data removed]",
      "text/plain": [
       "<Figure size 432x288 with 1 Axes>"
      ]
     },
     "metadata": {
      "needs_background": "light"
     },
     "output_type": "display_data"
    }
   ],
   "source": [
    "sns.boxplot(df['Total Rebounds'])"
   ]
  },
  {
   "cell_type": "code",
   "execution_count": 88,
   "id": "a37b937a",
   "metadata": {},
   "outputs": [
    {
     "name": "stdout",
     "output_type": "stream",
     "text": [
      "IQR 2.7\n",
      "UL 8.55\n",
      "LL -2.250000000000001\n"
     ]
    }
   ],
   "source": [
    "iqr=df['Total Rebounds'].quantile(.75)-df['Total Rebounds'].quantile(.25)\n",
    "print('IQR',iqr)\n",
    "ul=df['Total Rebounds'].quantile(.75)+1.5*iqr\n",
    "print('UL',ul)\n",
    "ll=df['Total Rebounds'].quantile(.25)-1.5*iqr\n",
    "print('LL',ll)"
   ]
  },
  {
   "cell_type": "code",
   "execution_count": 89,
   "id": "fb5b213e",
   "metadata": {},
   "outputs": [
    {
     "data": {
      "text/plain": [
       "89"
      ]
     },
     "execution_count": 89,
     "metadata": {},
     "output_type": "execute_result"
    }
   ],
   "source": [
    "len(df[df['Total Rebounds']>ul])"
   ]
  },
  {
   "cell_type": "code",
   "execution_count": 90,
   "id": "710971b7",
   "metadata": {},
   "outputs": [
    {
     "data": {
      "text/plain": [
       "0.5     136\n",
       "0.8     133\n",
       "1.0     131\n",
       "1.2     115\n",
       "0.0     109\n",
       "       ... \n",
       "7.9       1\n",
       "8.1       1\n",
       "7.6       1\n",
       "10.9      1\n",
       "8.8       1\n",
       "Name: Assists, Length: 86, dtype: int64"
      ]
     },
     "execution_count": 90,
     "metadata": {},
     "output_type": "execute_result"
    }
   ],
   "source": [
    "df['Assists'].value_counts()"
   ]
  },
  {
   "cell_type": "code",
   "execution_count": 91,
   "id": "fa7437c7",
   "metadata": {},
   "outputs": [
    {
     "data": {
      "text/plain": [
       "<AxesSubplot:>"
      ]
     },
     "execution_count": 91,
     "metadata": {},
     "output_type": "execute_result"
    },
    {
     "data": {
      "image/png": "[encoded data removed]",
      "text/plain": [
       "<Figure size 432x288 with 1 Axes>"
      ]
     },
     "metadata": {
      "needs_background": "light"
     },
     "output_type": "display_data"
    }
   ],
   "source": [
    "df['Assists'].hist()"
   ]
  },
  {
   "cell_type": "code",
   "execution_count": 92,
   "id": "a556b912",
   "metadata": {},
   "outputs": [
    {
     "name": "stderr",
     "output_type": "stream",
     "text": [
      "C:\\ProgramData\\Anaconda3\\lib\\site-packages\\seaborn\\_decorators.py:36: FutureWarning: Pass the following variable as a keyword arg: x. From version 0.12, the only valid positional argument will be `data`, and passing other arguments without an explicit keyword will result in an error or misinterpretation.\n",
      "  warnings.warn(\n"
     ]
    },
    {
     "data": {
      "text/plain": [
       "<AxesSubplot:xlabel='Assists'>"
      ]
     },
     "execution_count": 92,
     "metadata": {},
     "output_type": "execute_result"
    },
    {
     "data": {
      "image/png": "[encoded data removed]",
      "text/plain": [
       "<Figure size 432x288 with 1 Axes>"
      ]
     },
     "metadata": {
      "needs_background": "light"
     },
     "output_type": "display_data"
    }
   ],
   "source": [
    "sns.boxplot(df['Assists'])"
   ]
  },
  {
   "cell_type": "code",
   "execution_count": 93,
   "id": "5efec779",
   "metadata": {},
   "outputs": [
    {
     "name": "stdout",
     "output_type": "stream",
     "text": [
      "IQR 1.5000000000000002\n",
      "UL 4.450000000000001\n",
      "LL -1.5500000000000005\n"
     ]
    }
   ],
   "source": [
    "iqr=df['Assists'].quantile(.75)-df['Assists'].quantile(.25)\n",
    "print('IQR',iqr)\n",
    "ul=df['Assists'].quantile(.75)+1.5*iqr\n",
    "print('UL',ul)\n",
    "ll=df['Assists'].quantile(.25)-1.5*iqr\n",
    "print('LL',ll)"
   ]
  },
  {
   "cell_type": "code",
   "execution_count": 94,
   "id": "3aaa677f",
   "metadata": {},
   "outputs": [
    {
     "data": {
      "text/plain": [
       "158"
      ]
     },
     "execution_count": 94,
     "metadata": {},
     "output_type": "execute_result"
    }
   ],
   "source": [
    "len(df[df['Assists']>ul])"
   ]
  },
  {
   "cell_type": "code",
   "execution_count": 95,
   "id": "fe8dbbc8",
   "metadata": {},
   "outputs": [
    {
     "data": {
      "text/plain": [
       "0.3    287\n",
       "0.5    279\n",
       "0.4    271\n",
       "0.6    251\n",
       "0.7    211\n",
       "0.2    200\n",
       "0.8    193\n",
       "0.0    187\n",
       "0.9    143\n",
       "0.1    139\n",
       "1.0    129\n",
       "1.1     86\n",
       "1.2     60\n",
       "1.3     37\n",
       "1.4     31\n",
       "1.5     30\n",
       "1.6     27\n",
       "1.7     15\n",
       "2.0     10\n",
       "1.8      9\n",
       "2.1      4\n",
       "1.9      4\n",
       "2.4      1\n",
       "2.3      1\n",
       "Name: Steals, dtype: int64"
      ]
     },
     "execution_count": 95,
     "metadata": {},
     "output_type": "execute_result"
    }
   ],
   "source": [
    "df['Steals'].value_counts()"
   ]
  },
  {
   "cell_type": "code",
   "execution_count": 96,
   "id": "9fe337df",
   "metadata": {},
   "outputs": [
    {
     "name": "stderr",
     "output_type": "stream",
     "text": [
      "C:\\ProgramData\\Anaconda3\\lib\\site-packages\\seaborn\\_decorators.py:36: FutureWarning: Pass the following variable as a keyword arg: x. From version 0.12, the only valid positional argument will be `data`, and passing other arguments without an explicit keyword will result in an error or misinterpretation.\n",
      "  warnings.warn(\n"
     ]
    },
    {
     "data": {
      "text/plain": [
       "<AxesSubplot:xlabel='Steals', ylabel='count'>"
      ]
     },
     "execution_count": 96,
     "metadata": {},
     "output_type": "execute_result"
    },
    {
     "data": {
      "image/png": "[encoded data removed]",
      "text/plain": [
       "<Figure size 432x288 with 1 Axes>"
      ]
     },
     "metadata": {
      "needs_background": "light"
     },
     "output_type": "display_data"
    }
   ],
   "source": [
    "sns.countplot(df['Steals'])"
   ]
  },
  {
   "cell_type": "code",
   "execution_count": 97,
   "id": "16a0c3a5",
   "metadata": {},
   "outputs": [
    {
     "data": {
      "text/plain": [
       "0.1    446\n",
       "0.2    406\n",
       "0.0    385\n",
       "0.3    363\n",
       "0.4    242\n",
       "0.5    187\n",
       "0.6    137\n",
       "0.7     89\n",
       "0.8     71\n",
       "0.9     67\n",
       "1.1     48\n",
       "1.0     44\n",
       "1.3     27\n",
       "1.2     20\n",
       "1.4     19\n",
       "1.6     11\n",
       "1.5      9\n",
       "2.0      7\n",
       "1.8      7\n",
       "2.2      4\n",
       "1.9      3\n",
       "2.3      3\n",
       "1.7      3\n",
       "2.7      2\n",
       "2.4      2\n",
       "2.1      1\n",
       "3.4      1\n",
       "2.9      1\n",
       "Name: Blocks, dtype: int64"
      ]
     },
     "execution_count": 97,
     "metadata": {},
     "output_type": "execute_result"
    }
   ],
   "source": [
    "df['Blocks'].value_counts()"
   ]
  },
  {
   "cell_type": "code",
   "execution_count": 98,
   "id": "c2fd6674",
   "metadata": {},
   "outputs": [
    {
     "name": "stderr",
     "output_type": "stream",
     "text": [
      "C:\\ProgramData\\Anaconda3\\lib\\site-packages\\seaborn\\_decorators.py:36: FutureWarning: Pass the following variable as a keyword arg: x. From version 0.12, the only valid positional argument will be `data`, and passing other arguments without an explicit keyword will result in an error or misinterpretation.\n",
      "  warnings.warn(\n"
     ]
    },
    {
     "data": {
      "text/plain": [
       "<AxesSubplot:xlabel='Blocks', ylabel='count'>"
      ]
     },
     "execution_count": 98,
     "metadata": {},
     "output_type": "execute_result"
    },
    {
     "data": {
      "image/png": "[encoded data removed]",
      "text/plain": [
       "<Figure size 432x288 with 1 Axes>"
      ]
     },
     "metadata": {
      "needs_background": "light"
     },
     "output_type": "display_data"
    }
   ],
   "source": [
    "sns.countplot(df['Blocks'])"
   ]
  },
  {
   "cell_type": "code",
   "execution_count": 99,
   "id": "5c917965",
   "metadata": {},
   "outputs": [
    {
     "data": {
      "text/plain": [
       "0.8    208\n",
       "1.0    183\n",
       "0.3    178\n",
       "0.5    173\n",
       "0.6    172\n",
       "0.7    166\n",
       "0.4    155\n",
       "0.9    155\n",
       "1.3    121\n",
       "1.1    120\n",
       "0.0    118\n",
       "1.2    104\n",
       "1.4     96\n",
       "0.2     88\n",
       "1.5     79\n",
       "1.6     72\n",
       "1.7     54\n",
       "1.8     51\n",
       "2.2     41\n",
       "0.1     39\n",
       "1.9     39\n",
       "2.0     27\n",
       "2.3     27\n",
       "2.6     19\n",
       "2.7     18\n",
       "2.4     17\n",
       "2.1     16\n",
       "2.8     11\n",
       "3.0     11\n",
       "2.5      9\n",
       "3.1      8\n",
       "3.2      5\n",
       "2.9      5\n",
       "3.5      4\n",
       "3.4      3\n",
       "4.0      3\n",
       "3.6      3\n",
       "3.3      2\n",
       "3.8      2\n",
       "3.7      1\n",
       "5.0      1\n",
       "3.9      1\n",
       "Name: Turnovers, dtype: int64"
      ]
     },
     "execution_count": 99,
     "metadata": {},
     "output_type": "execute_result"
    }
   ],
   "source": [
    "df['Turnovers'].value_counts()"
   ]
  },
  {
   "cell_type": "code",
   "execution_count": 100,
   "id": "d5b99299",
   "metadata": {},
   "outputs": [
    {
     "name": "stderr",
     "output_type": "stream",
     "text": [
      "C:\\ProgramData\\Anaconda3\\lib\\site-packages\\seaborn\\_decorators.py:36: FutureWarning: Pass the following variable as a keyword arg: x. From version 0.12, the only valid positional argument will be `data`, and passing other arguments without an explicit keyword will result in an error or misinterpretation.\n",
      "  warnings.warn(\n"
     ]
    },
    {
     "data": {
      "text/plain": [
       "<AxesSubplot:xlabel='Turnovers', ylabel='count'>"
      ]
     },
     "execution_count": 100,
     "metadata": {},
     "output_type": "execute_result"
    },
    {
     "data": {
      "image/png": "[encoded data removed]",
      "text/plain": [
       "<Figure size 432x288 with 1 Axes>"
      ]
     },
     "metadata": {
      "needs_background": "light"
     },
     "output_type": "display_data"
    }
   ],
   "source": [
    "sns.countplot(df['Turnovers'])"
   ]
  },
  {
   "cell_type": "code",
   "execution_count": 101,
   "id": "7b71c338",
   "metadata": {},
   "outputs": [
    {
     "data": {
      "text/plain": [
       "<AxesSubplot:>"
      ]
     },
     "execution_count": 101,
     "metadata": {},
     "output_type": "execute_result"
    },
    {
     "data": {
      "image/png": "[encoded data removed]",
      "text/plain": [
       "<Figure size 432x288 with 1 Axes>"
      ]
     },
     "metadata": {
      "needs_background": "light"
     },
     "output_type": "display_data"
    }
   ],
   "source": [
    "df['Turnovers'].hist()"
   ]
  },
  {
   "cell_type": "code",
   "execution_count": 102,
   "id": "8a169a8b",
   "metadata": {},
   "outputs": [
    {
     "name": "stderr",
     "output_type": "stream",
     "text": [
      "C:\\ProgramData\\Anaconda3\\lib\\site-packages\\seaborn\\_decorators.py:36: FutureWarning: Pass the following variable as a keyword arg: x. From version 0.12, the only valid positional argument will be `data`, and passing other arguments without an explicit keyword will result in an error or misinterpretation.\n",
      "  warnings.warn(\n"
     ]
    },
    {
     "data": {
      "text/plain": [
       "<AxesSubplot:xlabel='Turnovers'>"
      ]
     },
     "execution_count": 102,
     "metadata": {},
     "output_type": "execute_result"
    },
    {
     "data": {
      "image/png": "[encoded data removed]",
      "text/plain": [
       "<Figure size 432x288 with 1 Axes>"
      ]
     },
     "metadata": {
      "needs_background": "light"
     },
     "output_type": "display_data"
    }
   ],
   "source": [
    "sns.boxplot(df['Turnovers'])"
   ]
  },
  {
   "cell_type": "code",
   "execution_count": 103,
   "id": "959ec984",
   "metadata": {},
   "outputs": [
    {
     "name": "stdout",
     "output_type": "stream",
     "text": [
      "IQR 0.8\n",
      "UL 2.5\n",
      "LL -0.7000000000000002\n"
     ]
    }
   ],
   "source": [
    "iqr=df['Turnovers'].quantile(.75)-df['Turnovers'].quantile(.25)\n",
    "print('IQR',iqr)\n",
    "ul=df['Turnovers'].quantile(.75)+1.5*iqr\n",
    "print('UL',ul)\n",
    "ll=df['Turnovers'].quantile(.25)-1.5*iqr\n",
    "print('LL',ll)"
   ]
  },
  {
   "cell_type": "code",
   "execution_count": 104,
   "id": "8ea78186",
   "metadata": {},
   "outputs": [
    {
     "data": {
      "text/plain": [
       "97"
      ]
     },
     "execution_count": 104,
     "metadata": {},
     "output_type": "execute_result"
    }
   ],
   "source": [
    "len(df[df['Turnovers']>ul])"
   ]
  },
  {
   "cell_type": "code",
   "execution_count": null,
   "id": "8019722d",
   "metadata": {},
   "outputs": [],
   "source": []
  },
  {
   "cell_type": "code",
   "execution_count": 105,
   "id": "669a7ed9",
   "metadata": {},
   "outputs": [
    {
     "data": {
      "text/plain": [
       "1.7    140\n",
       "1.6    135\n",
       "2.0    135\n",
       "1.9    134\n",
       "1.8    126\n",
       "1.3    122\n",
       "1.5    121\n",
       "1.0    117\n",
       "1.4    110\n",
       "2.3    103\n",
       "2.2    100\n",
       "2.1     97\n",
       "1.1     93\n",
       "1.2     85\n",
       "0.9     81\n",
       "2.6     73\n",
       "2.4     73\n",
       "0.0     72\n",
       "0.8     69\n",
       "0.7     68\n",
       "0.5     65\n",
       "2.5     63\n",
       "0.6     56\n",
       "2.8     51\n",
       "2.7     50\n",
       "0.4     43\n",
       "0.3     37\n",
       "2.9     33\n",
       "3.0     29\n",
       "3.1     22\n",
       "3.3     18\n",
       "0.2     14\n",
       "0.1     14\n",
       "3.2     11\n",
       "3.5     11\n",
       "3.4     11\n",
       "3.8      7\n",
       "4.0      6\n",
       "3.6      5\n",
       "3.7      2\n",
       "4.9      1\n",
       "4.1      1\n",
       "5.0      1\n",
       "Name: Personal Fouls, dtype: int64"
      ]
     },
     "execution_count": 105,
     "metadata": {},
     "output_type": "execute_result"
    }
   ],
   "source": [
    "df['Personal Fouls'].value_counts()"
   ]
  },
  {
   "cell_type": "code",
   "execution_count": 106,
   "id": "8b559888",
   "metadata": {},
   "outputs": [
    {
     "name": "stderr",
     "output_type": "stream",
     "text": [
      "C:\\ProgramData\\Anaconda3\\lib\\site-packages\\seaborn\\_decorators.py:36: FutureWarning: Pass the following variable as a keyword arg: x. From version 0.12, the only valid positional argument will be `data`, and passing other arguments without an explicit keyword will result in an error or misinterpretation.\n",
      "  warnings.warn(\n"
     ]
    },
    {
     "data": {
      "text/plain": [
       "<AxesSubplot:xlabel='Personal Fouls', ylabel='count'>"
      ]
     },
     "execution_count": 106,
     "metadata": {},
     "output_type": "execute_result"
    },
    {
     "data": {
      "image/png": "[encoded data removed]",
      "text/plain": [
       "<Figure size 432x288 with 1 Axes>"
      ]
     },
     "metadata": {
      "needs_background": "light"
     },
     "output_type": "display_data"
    }
   ],
   "source": [
    "sns.countplot(df['Personal Fouls'])"
   ]
  },
  {
   "cell_type": "code",
   "execution_count": 107,
   "id": "20715124",
   "metadata": {},
   "outputs": [
    {
     "data": {
      "text/plain": [
       "<AxesSubplot:>"
      ]
     },
     "execution_count": 107,
     "metadata": {},
     "output_type": "execute_result"
    },
    {
     "data": {
      "image/png": "[encoded data removed]",
      "text/plain": [
       "<Figure size 432x288 with 1 Axes>"
      ]
     },
     "metadata": {
      "needs_background": "light"
     },
     "output_type": "display_data"
    }
   ],
   "source": [
    "df['Personal Fouls'].hist()"
   ]
  },
  {
   "cell_type": "code",
   "execution_count": 108,
   "id": "055510f1",
   "metadata": {},
   "outputs": [
    {
     "name": "stderr",
     "output_type": "stream",
     "text": [
      "C:\\ProgramData\\Anaconda3\\lib\\site-packages\\seaborn\\_decorators.py:36: FutureWarning: Pass the following variable as a keyword arg: x. From version 0.12, the only valid positional argument will be `data`, and passing other arguments without an explicit keyword will result in an error or misinterpretation.\n",
      "  warnings.warn(\n"
     ]
    },
    {
     "data": {
      "text/plain": [
       "<AxesSubplot:xlabel='Personal Fouls'>"
      ]
     },
     "execution_count": 108,
     "metadata": {},
     "output_type": "execute_result"
    },
    {
     "data": {
      "image/png": "[encoded data removed]",
      "text/plain": [
       "<Figure size 432x288 with 1 Axes>"
      ]
     },
     "metadata": {
      "needs_background": "light"
     },
     "output_type": "display_data"
    }
   ],
   "source": [
    "sns.boxplot(df['Personal Fouls'])"
   ]
  },
  {
   "cell_type": "code",
   "execution_count": 109,
   "id": "67d67d51",
   "metadata": {},
   "outputs": [
    {
     "data": {
      "text/plain": [
       "0.0     47\n",
       "2.0     43\n",
       "1.0     37\n",
       "3.0     35\n",
       "6.9     33\n",
       "        ..\n",
       "20.5     1\n",
       "23.0     1\n",
       "0.1      1\n",
       "18.8     1\n",
       "0.3      1\n",
       "Name: Points, Length: 225, dtype: int64"
      ]
     },
     "execution_count": 109,
     "metadata": {},
     "output_type": "execute_result"
    }
   ],
   "source": [
    "df['Points'].value_counts()"
   ]
  },
  {
   "cell_type": "code",
   "execution_count": 110,
   "id": "bbf3fe57",
   "metadata": {},
   "outputs": [
    {
     "data": {
      "text/plain": [
       "<AxesSubplot:>"
      ]
     },
     "execution_count": 110,
     "metadata": {},
     "output_type": "execute_result"
    },
    {
     "data": {
      "image/png": "[encoded data removed]",
      "text/plain": [
       "<Figure size 432x288 with 1 Axes>"
      ]
     },
     "metadata": {
      "needs_background": "light"
     },
     "output_type": "display_data"
    }
   ],
   "source": [
    "df['Points'].hist()"
   ]
  },
  {
   "cell_type": "code",
   "execution_count": 111,
   "id": "180fc8ca",
   "metadata": {},
   "outputs": [
    {
     "name": "stderr",
     "output_type": "stream",
     "text": [
      "C:\\ProgramData\\Anaconda3\\lib\\site-packages\\seaborn\\_decorators.py:36: FutureWarning: Pass the following variable as a keyword arg: x. From version 0.12, the only valid positional argument will be `data`, and passing other arguments without an explicit keyword will result in an error or misinterpretation.\n",
      "  warnings.warn(\n"
     ]
    },
    {
     "data": {
      "text/plain": [
       "<AxesSubplot:xlabel='Points'>"
      ]
     },
     "execution_count": 111,
     "metadata": {},
     "output_type": "execute_result"
    },
    {
     "data": {
      "image/png": "[encoded data removed]",
      "text/plain": [
       "<Figure size 432x288 with 1 Axes>"
      ]
     },
     "metadata": {
      "needs_background": "light"
     },
     "output_type": "display_data"
    }
   ],
   "source": [
    "sns.boxplot(df['Points'])"
   ]
  },
  {
   "cell_type": "code",
   "execution_count": 112,
   "id": "7f7e213c",
   "metadata": {},
   "outputs": [
    {
     "name": "stdout",
     "output_type": "stream",
     "text": [
      "IQR 7.2\n",
      "UL 21.700000000000003\n",
      "LL -7.1000000000000005\n"
     ]
    }
   ],
   "source": [
    "iqr=df['Points'].quantile(.75)-df['Points'].quantile(.25)\n",
    "print('IQR',iqr)\n",
    "ul=df['Points'].quantile(.75)+1.5*iqr\n",
    "print('UL',ul)\n",
    "ll=df['Points'].quantile(.25)-1.5*iqr\n",
    "print('LL',ll)"
   ]
  },
  {
   "cell_type": "code",
   "execution_count": 113,
   "id": "fe21eda1",
   "metadata": {},
   "outputs": [
    {
     "data": {
      "text/plain": [
       "14"
      ]
     },
     "execution_count": 113,
     "metadata": {},
     "output_type": "execute_result"
    }
   ],
   "source": [
    "len(df[df['Points']>ul])"
   ]
  },
  {
   "cell_type": "code",
   "execution_count": 114,
   "id": "c1eb6c78",
   "metadata": {},
   "outputs": [
    {
     "data": {
      "text/plain": [
       "100    11\n",
       "400    11\n",
       "181    10\n",
       "426    10\n",
       "94     10\n",
       "       ..\n",
       "218     2\n",
       "294     2\n",
       "286     2\n",
       "539     2\n",
       "538     1\n",
       "Name: Rank, Length: 540, dtype: int64"
      ]
     },
     "execution_count": 114,
     "metadata": {},
     "output_type": "execute_result"
    }
   ],
   "source": [
    "df['Rank'].value_counts()"
   ]
  },
  {
   "cell_type": "code",
   "execution_count": 115,
   "id": "c6df1bcf",
   "metadata": {},
   "outputs": [
    {
     "data": {
      "text/plain": [
       "<AxesSubplot:>"
      ]
     },
     "execution_count": 115,
     "metadata": {},
     "output_type": "execute_result"
    },
    {
     "data": {
      "image/png": "[encoded data removed]",
      "text/plain": [
       "<Figure size 432x288 with 1 Axes>"
      ]
     },
     "metadata": {
      "needs_background": "light"
     },
     "output_type": "display_data"
    }
   ],
   "source": [
    "df['Rank'].hist()"
   ]
  },
  {
   "cell_type": "code",
   "execution_count": 116,
   "id": "e1e0f5c0",
   "metadata": {},
   "outputs": [
    {
     "name": "stderr",
     "output_type": "stream",
     "text": [
      "C:\\ProgramData\\Anaconda3\\lib\\site-packages\\seaborn\\_decorators.py:36: FutureWarning: Pass the following variable as a keyword arg: x. From version 0.12, the only valid positional argument will be `data`, and passing other arguments without an explicit keyword will result in an error or misinterpretation.\n",
      "  warnings.warn(\n"
     ]
    },
    {
     "data": {
      "text/plain": [
       "<AxesSubplot:xlabel='Rank'>"
      ]
     },
     "execution_count": 116,
     "metadata": {},
     "output_type": "execute_result"
    },
    {
     "data": {
      "image/png": "[encoded data removed]",
      "text/plain": [
       "<Figure size 432x288 with 1 Axes>"
      ]
     },
     "metadata": {
      "needs_background": "light"
     },
     "output_type": "display_data"
    }
   ],
   "source": [
    "sns.boxplot(df['Rank'])"
   ]
  },
  {
   "cell_type": "code",
   "execution_count": 117,
   "id": "643c2039",
   "metadata": {},
   "outputs": [
    {
     "data": {
      "text/plain": [
       "2019    680\n",
       "2021    663\n",
       "2018    646\n",
       "2020    616\n",
       "Name: Year, dtype: int64"
      ]
     },
     "execution_count": 117,
     "metadata": {},
     "output_type": "execute_result"
    }
   ],
   "source": [
    "df['Year'].value_counts()"
   ]
  },
  {
   "cell_type": "code",
   "execution_count": 118,
   "id": "8112cd0c",
   "metadata": {},
   "outputs": [
    {
     "name": "stderr",
     "output_type": "stream",
     "text": [
      "C:\\ProgramData\\Anaconda3\\lib\\site-packages\\seaborn\\_decorators.py:36: FutureWarning: Pass the following variable as a keyword arg: x. From version 0.12, the only valid positional argument will be `data`, and passing other arguments without an explicit keyword will result in an error or misinterpretation.\n",
      "  warnings.warn(\n"
     ]
    },
    {
     "data": {
      "text/plain": [
       "<AxesSubplot:xlabel='Year', ylabel='count'>"
      ]
     },
     "execution_count": 118,
     "metadata": {},
     "output_type": "execute_result"
    },
    {
     "data": {
      "image/png": "[encoded data removed]",
      "text/plain": [
       "<Figure size 432x288 with 1 Axes>"
      ]
     },
     "metadata": {
      "needs_background": "light"
     },
     "output_type": "display_data"
    }
   ],
   "source": [
    "sns.countplot(df['Year'])"
   ]
  },
  {
   "cell_type": "code",
   "execution_count": 153,
   "id": "fdbf8329",
   "metadata": {},
   "outputs": [
    {
     "data": {
      "text/html": [
       "<div>\n",
       "<style scoped>\n",
       "    .dataframe tbody tr th:only-of-type {\n",
       "        vertical-align: middle;\n",
       "    }\n",
       "\n",
       "    .dataframe tbody tr th {\n",
       "        vertical-align: top;\n",
       "    }\n",
       "\n",
       "    .dataframe thead th {\n",
       "        text-align: right;\n",
       "    }\n",
       "</style>\n",
       "<table border=\"1\" class=\"dataframe\">\n",
       "  <thead>\n",
       "    <tr style=\"text-align: right;\">\n",
       "      <th></th>\n",
       "      <th>Age</th>\n",
       "      <th>Games</th>\n",
       "      <th>Minutes Played</th>\n",
       "      <th>Fields_goal</th>\n",
       "      <th>3-points Field Goal</th>\n",
       "      <th>3-points Field Goal Attempted</th>\n",
       "      <th>2-points Field Goal</th>\n",
       "      <th>2-points Field Goal Attempted</th>\n",
       "      <th>Free Throws</th>\n",
       "      <th>Free Throws Attempted</th>\n",
       "      <th>...</th>\n",
       "      <th>Defensive Rebounds</th>\n",
       "      <th>Total Rebounds</th>\n",
       "      <th>Assists</th>\n",
       "      <th>Steals</th>\n",
       "      <th>Blocks</th>\n",
       "      <th>Turnovers</th>\n",
       "      <th>Personal Fouls</th>\n",
       "      <th>Points</th>\n",
       "      <th>Rank</th>\n",
       "      <th>Year</th>\n",
       "    </tr>\n",
       "  </thead>\n",
       "  <tbody>\n",
       "    <tr>\n",
       "      <th>0</th>\n",
       "      <td>24</td>\n",
       "      <td>75</td>\n",
       "      <td>15.1</td>\n",
       "      <td>1.5</td>\n",
       "      <td>1.1</td>\n",
       "      <td>2.9</td>\n",
       "      <td>0.4</td>\n",
       "      <td>0.9</td>\n",
       "      <td>0.5</td>\n",
       "      <td>0.6</td>\n",
       "      <td>...</td>\n",
       "      <td>1.2</td>\n",
       "      <td>1.5</td>\n",
       "      <td>0.4</td>\n",
       "      <td>0.5</td>\n",
       "      <td>0.1</td>\n",
       "      <td>0.3</td>\n",
       "      <td>1.7</td>\n",
       "      <td>4.7</td>\n",
       "      <td>1</td>\n",
       "      <td>2018</td>\n",
       "    </tr>\n",
       "    <tr>\n",
       "      <th>1</th>\n",
       "      <td>27</td>\n",
       "      <td>70</td>\n",
       "      <td>19.4</td>\n",
       "      <td>1.9</td>\n",
       "      <td>1.5</td>\n",
       "      <td>4.2</td>\n",
       "      <td>0.4</td>\n",
       "      <td>1.0</td>\n",
       "      <td>0.7</td>\n",
       "      <td>0.9</td>\n",
       "      <td>...</td>\n",
       "      <td>3.1</td>\n",
       "      <td>3.7</td>\n",
       "      <td>0.8</td>\n",
       "      <td>0.5</td>\n",
       "      <td>0.4</td>\n",
       "      <td>0.9</td>\n",
       "      <td>2.1</td>\n",
       "      <td>5.9</td>\n",
       "      <td>2</td>\n",
       "      <td>2018</td>\n",
       "    </tr>\n",
       "    <tr>\n",
       "      <th>2</th>\n",
       "      <td>24</td>\n",
       "      <td>76</td>\n",
       "      <td>32.7</td>\n",
       "      <td>5.9</td>\n",
       "      <td>0.0</td>\n",
       "      <td>0.0</td>\n",
       "      <td>5.9</td>\n",
       "      <td>9.3</td>\n",
       "      <td>2.1</td>\n",
       "      <td>3.8</td>\n",
       "      <td>...</td>\n",
       "      <td>4.0</td>\n",
       "      <td>9.0</td>\n",
       "      <td>1.2</td>\n",
       "      <td>1.2</td>\n",
       "      <td>1.0</td>\n",
       "      <td>1.7</td>\n",
       "      <td>2.8</td>\n",
       "      <td>13.9</td>\n",
       "      <td>3</td>\n",
       "      <td>2018</td>\n",
       "    </tr>\n",
       "    <tr>\n",
       "      <th>3</th>\n",
       "      <td>20</td>\n",
       "      <td>69</td>\n",
       "      <td>19.8</td>\n",
       "      <td>2.5</td>\n",
       "      <td>0.0</td>\n",
       "      <td>0.1</td>\n",
       "      <td>2.5</td>\n",
       "      <td>4.8</td>\n",
       "      <td>1.9</td>\n",
       "      <td>2.6</td>\n",
       "      <td>...</td>\n",
       "      <td>3.8</td>\n",
       "      <td>5.5</td>\n",
       "      <td>1.5</td>\n",
       "      <td>0.5</td>\n",
       "      <td>0.6</td>\n",
       "      <td>1.0</td>\n",
       "      <td>2.0</td>\n",
       "      <td>6.9</td>\n",
       "      <td>4</td>\n",
       "      <td>2018</td>\n",
       "    </tr>\n",
       "    <tr>\n",
       "      <th>4</th>\n",
       "      <td>32</td>\n",
       "      <td>53</td>\n",
       "      <td>12.9</td>\n",
       "      <td>1.2</td>\n",
       "      <td>0.5</td>\n",
       "      <td>1.3</td>\n",
       "      <td>0.7</td>\n",
       "      <td>1.7</td>\n",
       "      <td>0.4</td>\n",
       "      <td>0.5</td>\n",
       "      <td>...</td>\n",
       "      <td>1.2</td>\n",
       "      <td>1.2</td>\n",
       "      <td>0.6</td>\n",
       "      <td>0.1</td>\n",
       "      <td>0.2</td>\n",
       "      <td>0.4</td>\n",
       "      <td>1.1</td>\n",
       "      <td>3.4</td>\n",
       "      <td>5</td>\n",
       "      <td>2018</td>\n",
       "    </tr>\n",
       "    <tr>\n",
       "      <th>...</th>\n",
       "      <td>...</td>\n",
       "      <td>...</td>\n",
       "      <td>...</td>\n",
       "      <td>...</td>\n",
       "      <td>...</td>\n",
       "      <td>...</td>\n",
       "      <td>...</td>\n",
       "      <td>...</td>\n",
       "      <td>...</td>\n",
       "      <td>...</td>\n",
       "      <td>...</td>\n",
       "      <td>...</td>\n",
       "      <td>...</td>\n",
       "      <td>...</td>\n",
       "      <td>...</td>\n",
       "      <td>...</td>\n",
       "      <td>...</td>\n",
       "      <td>...</td>\n",
       "      <td>...</td>\n",
       "      <td>...</td>\n",
       "      <td>...</td>\n",
       "    </tr>\n",
       "    <tr>\n",
       "      <th>2722</th>\n",
       "      <td>28</td>\n",
       "      <td>36</td>\n",
       "      <td>29.2</td>\n",
       "      <td>3.8</td>\n",
       "      <td>0.9</td>\n",
       "      <td>2.5</td>\n",
       "      <td>2.9</td>\n",
       "      <td>5.7</td>\n",
       "      <td>2.0</td>\n",
       "      <td>2.5</td>\n",
       "      <td>...</td>\n",
       "      <td>3.5</td>\n",
       "      <td>4.6</td>\n",
       "      <td>5.0</td>\n",
       "      <td>1.6</td>\n",
       "      <td>0.5</td>\n",
       "      <td>1.3</td>\n",
       "      <td>1.3</td>\n",
       "      <td>10.4</td>\n",
       "      <td>536</td>\n",
       "      <td>2021</td>\n",
       "    </tr>\n",
       "    <tr>\n",
       "      <th>2723</th>\n",
       "      <td>28</td>\n",
       "      <td>27</td>\n",
       "      <td>25.8</td>\n",
       "      <td>3.9</td>\n",
       "      <td>1.2</td>\n",
       "      <td>3.1</td>\n",
       "      <td>2.6</td>\n",
       "      <td>5.3</td>\n",
       "      <td>1.1</td>\n",
       "      <td>1.3</td>\n",
       "      <td>...</td>\n",
       "      <td>2.9</td>\n",
       "      <td>3.9</td>\n",
       "      <td>3.6</td>\n",
       "      <td>1.6</td>\n",
       "      <td>0.4</td>\n",
       "      <td>1.3</td>\n",
       "      <td>1.1</td>\n",
       "      <td>10.0</td>\n",
       "      <td>536</td>\n",
       "      <td>2021</td>\n",
       "    </tr>\n",
       "    <tr>\n",
       "      <th>2724</th>\n",
       "      <td>32</td>\n",
       "      <td>68</td>\n",
       "      <td>24.3</td>\n",
       "      <td>5.4</td>\n",
       "      <td>0.2</td>\n",
       "      <td>0.7</td>\n",
       "      <td>5.3</td>\n",
       "      <td>9.1</td>\n",
       "      <td>1.0</td>\n",
       "      <td>1.7</td>\n",
       "      <td>...</td>\n",
       "      <td>3.8</td>\n",
       "      <td>6.2</td>\n",
       "      <td>4.3</td>\n",
       "      <td>1.1</td>\n",
       "      <td>0.6</td>\n",
       "      <td>2.0</td>\n",
       "      <td>2.2</td>\n",
       "      <td>12.1</td>\n",
       "      <td>537</td>\n",
       "      <td>2021</td>\n",
       "    </tr>\n",
       "    <tr>\n",
       "      <th>2726</th>\n",
       "      <td>28</td>\n",
       "      <td>48</td>\n",
       "      <td>20.9</td>\n",
       "      <td>3.8</td>\n",
       "      <td>0.1</td>\n",
       "      <td>0.6</td>\n",
       "      <td>3.7</td>\n",
       "      <td>6.2</td>\n",
       "      <td>1.8</td>\n",
       "      <td>2.5</td>\n",
       "      <td>...</td>\n",
       "      <td>4.4</td>\n",
       "      <td>6.8</td>\n",
       "      <td>1.8</td>\n",
       "      <td>0.6</td>\n",
       "      <td>0.4</td>\n",
       "      <td>1.1</td>\n",
       "      <td>2.5</td>\n",
       "      <td>9.4</td>\n",
       "      <td>539</td>\n",
       "      <td>2021</td>\n",
       "    </tr>\n",
       "    <tr>\n",
       "      <th>2727</th>\n",
       "      <td>23</td>\n",
       "      <td>72</td>\n",
       "      <td>22.3</td>\n",
       "      <td>3.6</td>\n",
       "      <td>0.0</td>\n",
       "      <td>0.1</td>\n",
       "      <td>3.6</td>\n",
       "      <td>5.4</td>\n",
       "      <td>1.9</td>\n",
       "      <td>2.4</td>\n",
       "      <td>...</td>\n",
       "      <td>4.6</td>\n",
       "      <td>7.2</td>\n",
       "      <td>1.3</td>\n",
       "      <td>0.3</td>\n",
       "      <td>0.9</td>\n",
       "      <td>1.1</td>\n",
       "      <td>2.6</td>\n",
       "      <td>9.0</td>\n",
       "      <td>540</td>\n",
       "      <td>2021</td>\n",
       "    </tr>\n",
       "  </tbody>\n",
       "</table>\n",
       "<p>2605 rows × 21 columns</p>\n",
       "</div>"
      ],
      "text/plain": [
       "      Age  Games  Minutes Played  Fields_goal  3-points Field Goal  \\\n",
       "0      24     75            15.1          1.5                  1.1   \n",
       "1      27     70            19.4          1.9                  1.5   \n",
       "2      24     76            32.7          5.9                  0.0   \n",
       "3      20     69            19.8          2.5                  0.0   \n",
       "4      32     53            12.9          1.2                  0.5   \n",
       "...   ...    ...             ...          ...                  ...   \n",
       "2722   28     36            29.2          3.8                  0.9   \n",
       "2723   28     27            25.8          3.9                  1.2   \n",
       "2724   32     68            24.3          5.4                  0.2   \n",
       "2726   28     48            20.9          3.8                  0.1   \n",
       "2727   23     72            22.3          3.6                  0.0   \n",
       "\n",
       "      3-points Field Goal Attempted  2-points Field Goal  \\\n",
       "0                               2.9                  0.4   \n",
       "1                               4.2                  0.4   \n",
       "2                               0.0                  5.9   \n",
       "3                               0.1                  2.5   \n",
       "4                               1.3                  0.7   \n",
       "...                             ...                  ...   \n",
       "2722                            2.5                  2.9   \n",
       "2723                            3.1                  2.6   \n",
       "2724                            0.7                  5.3   \n",
       "2726                            0.6                  3.7   \n",
       "2727                            0.1                  3.6   \n",
       "\n",
       "      2-points Field Goal Attempted  Free Throws  Free Throws Attempted  ...  \\\n",
       "0                               0.9          0.5                    0.6  ...   \n",
       "1                               1.0          0.7                    0.9  ...   \n",
       "2                               9.3          2.1                    3.8  ...   \n",
       "3                               4.8          1.9                    2.6  ...   \n",
       "4                               1.7          0.4                    0.5  ...   \n",
       "...                             ...          ...                    ...  ...   \n",
       "2722                            5.7          2.0                    2.5  ...   \n",
       "2723                            5.3          1.1                    1.3  ...   \n",
       "2724                            9.1          1.0                    1.7  ...   \n",
       "2726                            6.2          1.8                    2.5  ...   \n",
       "2727                            5.4          1.9                    2.4  ...   \n",
       "\n",
       "      Defensive Rebounds  Total Rebounds  Assists  Steals  Blocks  Turnovers  \\\n",
       "0                    1.2             1.5      0.4     0.5     0.1        0.3   \n",
       "1                    3.1             3.7      0.8     0.5     0.4        0.9   \n",
       "2                    4.0             9.0      1.2     1.2     1.0        1.7   \n",
       "3                    3.8             5.5      1.5     0.5     0.6        1.0   \n",
       "4                    1.2             1.2      0.6     0.1     0.2        0.4   \n",
       "...                  ...             ...      ...     ...     ...        ...   \n",
       "2722                 3.5             4.6      5.0     1.6     0.5        1.3   \n",
       "2723                 2.9             3.9      3.6     1.6     0.4        1.3   \n",
       "2724                 3.8             6.2      4.3     1.1     0.6        2.0   \n",
       "2726                 4.4             6.8      1.8     0.6     0.4        1.1   \n",
       "2727                 4.6             7.2      1.3     0.3     0.9        1.1   \n",
       "\n",
       "      Personal Fouls  Points  Rank  Year  \n",
       "0                1.7     4.7     1  2018  \n",
       "1                2.1     5.9     2  2018  \n",
       "2                2.8    13.9     3  2018  \n",
       "3                2.0     6.9     4  2018  \n",
       "4                1.1     3.4     5  2018  \n",
       "...              ...     ...   ...   ...  \n",
       "2722             1.3    10.4   536  2021  \n",
       "2723             1.1    10.0   536  2021  \n",
       "2724             2.2    12.1   537  2021  \n",
       "2726             2.5     9.4   539  2021  \n",
       "2727             2.6     9.0   540  2021  \n",
       "\n",
       "[2605 rows x 21 columns]"
      ]
     },
     "execution_count": 153,
     "metadata": {},
     "output_type": "execute_result"
    }
   ],
   "source": [
    "numerical=df.drop(['Player',\"Pos\",'Team'],axis=1)\n",
    "numerical"
   ]
  },
  {
   "cell_type": "code",
   "execution_count": 149,
   "id": "4f92a216",
   "metadata": {},
   "outputs": [
    {
     "data": {
      "text/html": [
       "<div>\n",
       "<style scoped>\n",
       "    .dataframe tbody tr th:only-of-type {\n",
       "        vertical-align: middle;\n",
       "    }\n",
       "\n",
       "    .dataframe tbody tr th {\n",
       "        vertical-align: top;\n",
       "    }\n",
       "\n",
       "    .dataframe thead th {\n",
       "        text-align: right;\n",
       "    }\n",
       "</style>\n",
       "<table border=\"1\" class=\"dataframe\">\n",
       "  <thead>\n",
       "    <tr style=\"text-align: right;\">\n",
       "      <th></th>\n",
       "    </tr>\n",
       "  </thead>\n",
       "  <tbody>\n",
       "    <tr>\n",
       "      <th>0</th>\n",
       "    </tr>\n",
       "    <tr>\n",
       "      <th>1</th>\n",
       "    </tr>\n",
       "    <tr>\n",
       "      <th>2</th>\n",
       "    </tr>\n",
       "    <tr>\n",
       "      <th>3</th>\n",
       "    </tr>\n",
       "    <tr>\n",
       "      <th>4</th>\n",
       "    </tr>\n",
       "    <tr>\n",
       "      <th>...</th>\n",
       "    </tr>\n",
       "    <tr>\n",
       "      <th>2722</th>\n",
       "    </tr>\n",
       "    <tr>\n",
       "      <th>2723</th>\n",
       "    </tr>\n",
       "    <tr>\n",
       "      <th>2724</th>\n",
       "    </tr>\n",
       "    <tr>\n",
       "      <th>2726</th>\n",
       "    </tr>\n",
       "    <tr>\n",
       "      <th>2727</th>\n",
       "    </tr>\n",
       "  </tbody>\n",
       "</table>\n",
       "<p>2605 rows × 0 columns</p>\n",
       "</div>"
      ],
      "text/plain": [
       "Empty DataFrame\n",
       "Columns: []\n",
       "Index: [0, 1, 2, 3, 4, 5, 7, 8, 9, 10, 11, 12, 13, 14, 16, 17, 18, 19, 20, 21, 22, 23, 24, 25, 26, 27, 28, 29, 30, 31, 32, 33, 34, 35, 36, 37, 38, 39, 41, 42, 43, 44, 45, 46, 47, 48, 49, 50, 51, 52, 53, 54, 55, 56, 57, 58, 59, 60, 61, 62, 63, 64, 66, 67, 68, 69, 70, 71, 72, 73, 74, 75, 76, 77, 78, 79, 80, 81, 82, 83, 84, 85, 86, 87, 88, 89, 90, 91, 92, 93, 94, 95, 96, 97, 98, 99, 100, 101, 102, 103, ...]\n",
       "\n",
       "[2605 rows x 0 columns]"
      ]
     },
     "execution_count": 149,
     "metadata": {},
     "output_type": "execute_result"
    }
   ],
   "source": [
    "categorical=df.select_dtypes(include='O')\n",
    "categorical"
   ]
  },
  {
   "cell_type": "code",
   "execution_count": 150,
   "id": "ae2c02c8",
   "metadata": {},
   "outputs": [
    {
     "data": {
      "text/plain": [
       "862"
      ]
     },
     "execution_count": 150,
     "metadata": {},
     "output_type": "execute_result"
    }
   ],
   "source": [
    "len(df.Player.unique())"
   ]
  },
  {
   "cell_type": "code",
   "execution_count": 126,
   "id": "1da7573f",
   "metadata": {},
   "outputs": [],
   "source": [
    "from sklearn.preprocessing import LabelEncoder"
   ]
  },
  {
   "cell_type": "code",
   "execution_count": 128,
   "id": "d0b4991d",
   "metadata": {},
   "outputs": [],
   "source": [
    "df['Player']=LabelEncoder().fit_transform(df['Player'])"
   ]
  },
  {
   "cell_type": "code",
   "execution_count": 130,
   "id": "a3052dd4",
   "metadata": {},
   "outputs": [],
   "source": [
    "df['Pos']=LabelEncoder().fit_transform(df['Pos'])"
   ]
  },
  {
   "cell_type": "code",
   "execution_count": 131,
   "id": "f9a2151b",
   "metadata": {},
   "outputs": [],
   "source": [
    "df['Team']=LabelEncoder().fit_transform(df['Team'])"
   ]
  },
  {
   "cell_type": "code",
   "execution_count": 142,
   "id": "2528d17e",
   "metadata": {},
   "outputs": [],
   "source": [
    "df.rename(columns={'Fields Goal':'Fields_goal'},inplace=True)"
   ]
  },
  {
   "cell_type": "code",
   "execution_count": 134,
   "id": "cc05c52e",
   "metadata": {},
   "outputs": [],
   "source": [
    "from statsmodels.formula.api import ols\n",
    "import statsmodels.api as sm"
   ]
  },
  {
   "cell_type": "code",
   "execution_count": 143,
   "id": "9b43850d",
   "metadata": {},
   "outputs": [
    {
     "data": {
      "text/html": [
       "<div>\n",
       "<style scoped>\n",
       "    .dataframe tbody tr th:only-of-type {\n",
       "        vertical-align: middle;\n",
       "    }\n",
       "\n",
       "    .dataframe tbody tr th {\n",
       "        vertical-align: top;\n",
       "    }\n",
       "\n",
       "    .dataframe thead th {\n",
       "        text-align: right;\n",
       "    }\n",
       "</style>\n",
       "<table border=\"1\" class=\"dataframe\">\n",
       "  <thead>\n",
       "    <tr style=\"text-align: right;\">\n",
       "      <th></th>\n",
       "      <th>df</th>\n",
       "      <th>sum_sq</th>\n",
       "      <th>mean_sq</th>\n",
       "      <th>F</th>\n",
       "      <th>PR(&gt;F)</th>\n",
       "    </tr>\n",
       "  </thead>\n",
       "  <tbody>\n",
       "    <tr>\n",
       "      <th>C(Player)</th>\n",
       "      <td>861.0</td>\n",
       "      <td>7318.023800</td>\n",
       "      <td>8.499447</td>\n",
       "      <td>8.468425</td>\n",
       "      <td>1.111361e-306</td>\n",
       "    </tr>\n",
       "    <tr>\n",
       "      <th>Residual</th>\n",
       "      <td>1743.0</td>\n",
       "      <td>1749.384952</td>\n",
       "      <td>1.003663</td>\n",
       "      <td>NaN</td>\n",
       "      <td>NaN</td>\n",
       "    </tr>\n",
       "  </tbody>\n",
       "</table>\n",
       "</div>"
      ],
      "text/plain": [
       "               df       sum_sq   mean_sq         F         PR(>F)\n",
       "C(Player)   861.0  7318.023800  8.499447  8.468425  1.111361e-306\n",
       "Residual   1743.0  1749.384952  1.003663       NaN            NaN"
      ]
     },
     "execution_count": 143,
     "metadata": {},
     "output_type": "execute_result"
    }
   ],
   "source": [
    "#perform two-way ANOVA\n",
    "model = ols('Fields_goal~C(Player)', data=df).fit()\n",
    "sm.stats.anova_lm(model, type=2)"
   ]
  },
  {
   "cell_type": "code",
   "execution_count": 144,
   "id": "68f0f639",
   "metadata": {},
   "outputs": [
    {
     "data": {
      "text/html": [
       "<div>\n",
       "<style scoped>\n",
       "    .dataframe tbody tr th:only-of-type {\n",
       "        vertical-align: middle;\n",
       "    }\n",
       "\n",
       "    .dataframe tbody tr th {\n",
       "        vertical-align: top;\n",
       "    }\n",
       "\n",
       "    .dataframe thead th {\n",
       "        text-align: right;\n",
       "    }\n",
       "</style>\n",
       "<table border=\"1\" class=\"dataframe\">\n",
       "  <thead>\n",
       "    <tr style=\"text-align: right;\">\n",
       "      <th></th>\n",
       "      <th>df</th>\n",
       "      <th>sum_sq</th>\n",
       "      <th>mean_sq</th>\n",
       "      <th>F</th>\n",
       "      <th>PR(&gt;F)</th>\n",
       "    </tr>\n",
       "  </thead>\n",
       "  <tbody>\n",
       "    <tr>\n",
       "      <th>C(Pos)</th>\n",
       "      <td>14.0</td>\n",
       "      <td>72.769509</td>\n",
       "      <td>5.197822</td>\n",
       "      <td>1.496709</td>\n",
       "      <td>0.103755</td>\n",
       "    </tr>\n",
       "    <tr>\n",
       "      <th>Residual</th>\n",
       "      <td>2590.0</td>\n",
       "      <td>8994.639243</td>\n",
       "      <td>3.472834</td>\n",
       "      <td>NaN</td>\n",
       "      <td>NaN</td>\n",
       "    </tr>\n",
       "  </tbody>\n",
       "</table>\n",
       "</div>"
      ],
      "text/plain": [
       "              df       sum_sq   mean_sq         F    PR(>F)\n",
       "C(Pos)      14.0    72.769509  5.197822  1.496709  0.103755\n",
       "Residual  2590.0  8994.639243  3.472834       NaN       NaN"
      ]
     },
     "execution_count": 144,
     "metadata": {},
     "output_type": "execute_result"
    }
   ],
   "source": [
    "#perform two-way ANOVA\n",
    "model = ols('Fields_goal~C(Pos)', data=df).fit()\n",
    "sm.stats.anova_lm(model, type=2)"
   ]
  },
  {
   "cell_type": "code",
   "execution_count": 145,
   "id": "a2ed9eb4",
   "metadata": {},
   "outputs": [
    {
     "data": {
      "text/html": [
       "<div>\n",
       "<style scoped>\n",
       "    .dataframe tbody tr th:only-of-type {\n",
       "        vertical-align: middle;\n",
       "    }\n",
       "\n",
       "    .dataframe tbody tr th {\n",
       "        vertical-align: top;\n",
       "    }\n",
       "\n",
       "    .dataframe thead th {\n",
       "        text-align: right;\n",
       "    }\n",
       "</style>\n",
       "<table border=\"1\" class=\"dataframe\">\n",
       "  <thead>\n",
       "    <tr style=\"text-align: right;\">\n",
       "      <th></th>\n",
       "      <th>df</th>\n",
       "      <th>sum_sq</th>\n",
       "      <th>mean_sq</th>\n",
       "      <th>F</th>\n",
       "      <th>PR(&gt;F)</th>\n",
       "    </tr>\n",
       "  </thead>\n",
       "  <tbody>\n",
       "    <tr>\n",
       "      <th>C(Team)</th>\n",
       "      <td>30.0</td>\n",
       "      <td>77.743454</td>\n",
       "      <td>2.591448</td>\n",
       "      <td>0.742006</td>\n",
       "      <td>0.843483</td>\n",
       "    </tr>\n",
       "    <tr>\n",
       "      <th>Residual</th>\n",
       "      <td>2574.0</td>\n",
       "      <td>8989.665298</td>\n",
       "      <td>3.492488</td>\n",
       "      <td>NaN</td>\n",
       "      <td>NaN</td>\n",
       "    </tr>\n",
       "  </tbody>\n",
       "</table>\n",
       "</div>"
      ],
      "text/plain": [
       "              df       sum_sq   mean_sq         F    PR(>F)\n",
       "C(Team)     30.0    77.743454  2.591448  0.742006  0.843483\n",
       "Residual  2574.0  8989.665298  3.492488       NaN       NaN"
      ]
     },
     "execution_count": 145,
     "metadata": {},
     "output_type": "execute_result"
    }
   ],
   "source": [
    "#perform two-way ANOVA\n",
    "model = ols('Fields_goal~C(Team)', data=df).fit()\n",
    "sm.stats.anova_lm(model, type=2)"
   ]
  },
  {
   "cell_type": "code",
   "execution_count": 156,
   "id": "9ee1f812",
   "metadata": {},
   "outputs": [
    {
     "data": {
      "text/html": [
       "<div>\n",
       "<style scoped>\n",
       "    .dataframe tbody tr th:only-of-type {\n",
       "        vertical-align: middle;\n",
       "    }\n",
       "\n",
       "    .dataframe tbody tr th {\n",
       "        vertical-align: top;\n",
       "    }\n",
       "\n",
       "    .dataframe thead th {\n",
       "        text-align: right;\n",
       "    }\n",
       "</style>\n",
       "<table border=\"1\" class=\"dataframe\">\n",
       "  <thead>\n",
       "    <tr style=\"text-align: right;\">\n",
       "      <th></th>\n",
       "      <th>Age</th>\n",
       "      <th>Games</th>\n",
       "      <th>Minutes Played</th>\n",
       "      <th>Fields_goal</th>\n",
       "      <th>3-points Field Goal</th>\n",
       "      <th>3-points Field Goal Attempted</th>\n",
       "      <th>2-points Field Goal</th>\n",
       "      <th>2-points Field Goal Attempted</th>\n",
       "      <th>Free Throws</th>\n",
       "      <th>Free Throws Attempted</th>\n",
       "      <th>...</th>\n",
       "      <th>Defensive Rebounds</th>\n",
       "      <th>Total Rebounds</th>\n",
       "      <th>Assists</th>\n",
       "      <th>Steals</th>\n",
       "      <th>Blocks</th>\n",
       "      <th>Turnovers</th>\n",
       "      <th>Personal Fouls</th>\n",
       "      <th>Points</th>\n",
       "      <th>Rank</th>\n",
       "      <th>Year</th>\n",
       "    </tr>\n",
       "  </thead>\n",
       "  <tbody>\n",
       "    <tr>\n",
       "      <th>Age</th>\n",
       "      <td>1.000000</td>\n",
       "      <td>0.088969</td>\n",
       "      <td>0.171115</td>\n",
       "      <td>0.094594</td>\n",
       "      <td>0.181961</td>\n",
       "      <td>0.166993</td>\n",
       "      <td>0.029438</td>\n",
       "      <td>0.032611</td>\n",
       "      <td>0.090088</td>\n",
       "      <td>0.062868</td>\n",
       "      <td>...</td>\n",
       "      <td>0.108814</td>\n",
       "      <td>0.081984</td>\n",
       "      <td>0.166206</td>\n",
       "      <td>0.099512</td>\n",
       "      <td>0.028452</td>\n",
       "      <td>0.090413</td>\n",
       "      <td>0.106404</td>\n",
       "      <td>0.114229</td>\n",
       "      <td>-0.048670</td>\n",
       "      <td>-0.039391</td>\n",
       "    </tr>\n",
       "    <tr>\n",
       "      <th>Games</th>\n",
       "      <td>0.088969</td>\n",
       "      <td>1.000000</td>\n",
       "      <td>0.596937</td>\n",
       "      <td>0.516813</td>\n",
       "      <td>0.378877</td>\n",
       "      <td>0.352571</td>\n",
       "      <td>0.444201</td>\n",
       "      <td>0.431684</td>\n",
       "      <td>0.368984</td>\n",
       "      <td>0.370781</td>\n",
       "      <td>...</td>\n",
       "      <td>0.447303</td>\n",
       "      <td>0.424720</td>\n",
       "      <td>0.358768</td>\n",
       "      <td>0.398516</td>\n",
       "      <td>0.279222</td>\n",
       "      <td>0.389481</td>\n",
       "      <td>0.446992</td>\n",
       "      <td>0.511645</td>\n",
       "      <td>-0.035053</td>\n",
       "      <td>-0.104116</td>\n",
       "    </tr>\n",
       "    <tr>\n",
       "      <th>Minutes Played</th>\n",
       "      <td>0.171115</td>\n",
       "      <td>0.596937</td>\n",
       "      <td>1.000000</td>\n",
       "      <td>0.884895</td>\n",
       "      <td>0.663815</td>\n",
       "      <td>0.674499</td>\n",
       "      <td>0.754493</td>\n",
       "      <td>0.779604</td>\n",
       "      <td>0.710101</td>\n",
       "      <td>0.707250</td>\n",
       "      <td>...</td>\n",
       "      <td>0.715269</td>\n",
       "      <td>0.659416</td>\n",
       "      <td>0.667839</td>\n",
       "      <td>0.721568</td>\n",
       "      <td>0.406813</td>\n",
       "      <td>0.750075</td>\n",
       "      <td>0.731160</td>\n",
       "      <td>0.893409</td>\n",
       "      <td>-0.056994</td>\n",
       "      <td>0.009645</td>\n",
       "    </tr>\n",
       "    <tr>\n",
       "      <th>Fields_goal</th>\n",
       "      <td>0.094594</td>\n",
       "      <td>0.516813</td>\n",
       "      <td>0.884895</td>\n",
       "      <td>1.000000</td>\n",
       "      <td>0.592559</td>\n",
       "      <td>0.587146</td>\n",
       "      <td>0.926127</td>\n",
       "      <td>0.932990</td>\n",
       "      <td>0.812332</td>\n",
       "      <td>0.811621</td>\n",
       "      <td>...</td>\n",
       "      <td>0.716011</td>\n",
       "      <td>0.676913</td>\n",
       "      <td>0.638850</td>\n",
       "      <td>0.616823</td>\n",
       "      <td>0.419041</td>\n",
       "      <td>0.783877</td>\n",
       "      <td>0.637426</td>\n",
       "      <td>0.988551</td>\n",
       "      <td>-0.018380</td>\n",
       "      <td>0.007369</td>\n",
       "    </tr>\n",
       "    <tr>\n",
       "      <th>3-points Field Goal</th>\n",
       "      <td>0.181961</td>\n",
       "      <td>0.378877</td>\n",
       "      <td>0.663815</td>\n",
       "      <td>0.592559</td>\n",
       "      <td>1.000000</td>\n",
       "      <td>0.973069</td>\n",
       "      <td>0.245793</td>\n",
       "      <td>0.312490</td>\n",
       "      <td>0.403240</td>\n",
       "      <td>0.332926</td>\n",
       "      <td>...</td>\n",
       "      <td>0.263554</td>\n",
       "      <td>0.146395</td>\n",
       "      <td>0.436118</td>\n",
       "      <td>0.433573</td>\n",
       "      <td>-0.009084</td>\n",
       "      <td>0.415331</td>\n",
       "      <td>0.327431</td>\n",
       "      <td>0.663184</td>\n",
       "      <td>-0.038043</td>\n",
       "      <td>0.055564</td>\n",
       "    </tr>\n",
       "    <tr>\n",
       "      <th>3-points Field Goal Attempted</th>\n",
       "      <td>0.166993</td>\n",
       "      <td>0.352571</td>\n",
       "      <td>0.674499</td>\n",
       "      <td>0.587146</td>\n",
       "      <td>0.973069</td>\n",
       "      <td>1.000000</td>\n",
       "      <td>0.251316</td>\n",
       "      <td>0.323646</td>\n",
       "      <td>0.417335</td>\n",
       "      <td>0.348860</td>\n",
       "      <td>...</td>\n",
       "      <td>0.262516</td>\n",
       "      <td>0.141343</td>\n",
       "      <td>0.456891</td>\n",
       "      <td>0.450801</td>\n",
       "      <td>-0.013334</td>\n",
       "      <td>0.439239</td>\n",
       "      <td>0.336978</td>\n",
       "      <td>0.658274</td>\n",
       "      <td>-0.037093</td>\n",
       "      <td>0.059990</td>\n",
       "    </tr>\n",
       "    <tr>\n",
       "      <th>2-points Field Goal</th>\n",
       "      <td>0.029438</td>\n",
       "      <td>0.444201</td>\n",
       "      <td>0.754493</td>\n",
       "      <td>0.926127</td>\n",
       "      <td>0.245793</td>\n",
       "      <td>0.251316</td>\n",
       "      <td>1.000000</td>\n",
       "      <td>0.976691</td>\n",
       "      <td>0.789135</td>\n",
       "      <td>0.821190</td>\n",
       "      <td>...</td>\n",
       "      <td>0.738862</td>\n",
       "      <td>0.746622</td>\n",
       "      <td>0.565222</td>\n",
       "      <td>0.539500</td>\n",
       "      <td>0.508466</td>\n",
       "      <td>0.749310</td>\n",
       "      <td>0.614351</td>\n",
       "      <td>0.879515</td>\n",
       "      <td>-0.003439</td>\n",
       "      <td>-0.016168</td>\n",
       "    </tr>\n",
       "    <tr>\n",
       "      <th>2-points Field Goal Attempted</th>\n",
       "      <td>0.032611</td>\n",
       "      <td>0.431684</td>\n",
       "      <td>0.779604</td>\n",
       "      <td>0.932990</td>\n",
       "      <td>0.312490</td>\n",
       "      <td>0.323646</td>\n",
       "      <td>0.976691</td>\n",
       "      <td>1.000000</td>\n",
       "      <td>0.813496</td>\n",
       "      <td>0.834333</td>\n",
       "      <td>...</td>\n",
       "      <td>0.697595</td>\n",
       "      <td>0.688473</td>\n",
       "      <td>0.625861</td>\n",
       "      <td>0.567888</td>\n",
       "      <td>0.434661</td>\n",
       "      <td>0.789734</td>\n",
       "      <td>0.594473</td>\n",
       "      <td>0.899072</td>\n",
       "      <td>-0.000952</td>\n",
       "      <td>-0.039676</td>\n",
       "    </tr>\n",
       "    <tr>\n",
       "      <th>Free Throws</th>\n",
       "      <td>0.090088</td>\n",
       "      <td>0.368984</td>\n",
       "      <td>0.710101</td>\n",
       "      <td>0.812332</td>\n",
       "      <td>0.403240</td>\n",
       "      <td>0.417335</td>\n",
       "      <td>0.789135</td>\n",
       "      <td>0.813496</td>\n",
       "      <td>1.000000</td>\n",
       "      <td>0.978969</td>\n",
       "      <td>...</td>\n",
       "      <td>0.609863</td>\n",
       "      <td>0.577269</td>\n",
       "      <td>0.594544</td>\n",
       "      <td>0.501637</td>\n",
       "      <td>0.351993</td>\n",
       "      <td>0.731179</td>\n",
       "      <td>0.523040</td>\n",
       "      <td>0.860080</td>\n",
       "      <td>-0.025017</td>\n",
       "      <td>0.003672</td>\n",
       "    </tr>\n",
       "    <tr>\n",
       "      <th>Free Throws Attempted</th>\n",
       "      <td>0.062868</td>\n",
       "      <td>0.370781</td>\n",
       "      <td>0.707250</td>\n",
       "      <td>0.811621</td>\n",
       "      <td>0.332926</td>\n",
       "      <td>0.348860</td>\n",
       "      <td>0.821190</td>\n",
       "      <td>0.834333</td>\n",
       "      <td>0.978969</td>\n",
       "      <td>1.000000</td>\n",
       "      <td>...</td>\n",
       "      <td>0.658468</td>\n",
       "      <td>0.641281</td>\n",
       "      <td>0.572375</td>\n",
       "      <td>0.506817</td>\n",
       "      <td>0.419441</td>\n",
       "      <td>0.744092</td>\n",
       "      <td>0.559758</td>\n",
       "      <td>0.845432</td>\n",
       "      <td>-0.029257</td>\n",
       "      <td>0.002334</td>\n",
       "    </tr>\n",
       "    <tr>\n",
       "      <th>Offensive Rebounds</th>\n",
       "      <td>0.003821</td>\n",
       "      <td>0.291184</td>\n",
       "      <td>0.405187</td>\n",
       "      <td>0.458150</td>\n",
       "      <td>-0.156255</td>\n",
       "      <td>-0.169575</td>\n",
       "      <td>0.624902</td>\n",
       "      <td>0.537630</td>\n",
       "      <td>0.391985</td>\n",
       "      <td>0.480534</td>\n",
       "      <td>...</td>\n",
       "      <td>0.739729</td>\n",
       "      <td>0.865235</td>\n",
       "      <td>0.084465</td>\n",
       "      <td>0.243147</td>\n",
       "      <td>0.653292</td>\n",
       "      <td>0.352369</td>\n",
       "      <td>0.553389</td>\n",
       "      <td>0.395831</td>\n",
       "      <td>-0.054434</td>\n",
       "      <td>0.026807</td>\n",
       "    </tr>\n",
       "    <tr>\n",
       "      <th>Defensive Rebounds</th>\n",
       "      <td>0.108814</td>\n",
       "      <td>0.447303</td>\n",
       "      <td>0.715269</td>\n",
       "      <td>0.716011</td>\n",
       "      <td>0.263554</td>\n",
       "      <td>0.262516</td>\n",
       "      <td>0.738862</td>\n",
       "      <td>0.697595</td>\n",
       "      <td>0.609863</td>\n",
       "      <td>0.658468</td>\n",
       "      <td>...</td>\n",
       "      <td>1.000000</td>\n",
       "      <td>0.977144</td>\n",
       "      <td>0.376907</td>\n",
       "      <td>0.466127</td>\n",
       "      <td>0.640083</td>\n",
       "      <td>0.602921</td>\n",
       "      <td>0.687363</td>\n",
       "      <td>0.690645</td>\n",
       "      <td>-0.067723</td>\n",
       "      <td>0.037747</td>\n",
       "    </tr>\n",
       "    <tr>\n",
       "      <th>Total Rebounds</th>\n",
       "      <td>0.081984</td>\n",
       "      <td>0.424720</td>\n",
       "      <td>0.659416</td>\n",
       "      <td>0.676913</td>\n",
       "      <td>0.146395</td>\n",
       "      <td>0.141343</td>\n",
       "      <td>0.746622</td>\n",
       "      <td>0.688473</td>\n",
       "      <td>0.577269</td>\n",
       "      <td>0.641281</td>\n",
       "      <td>...</td>\n",
       "      <td>0.977144</td>\n",
       "      <td>1.000000</td>\n",
       "      <td>0.307005</td>\n",
       "      <td>0.423273</td>\n",
       "      <td>0.682091</td>\n",
       "      <td>0.559383</td>\n",
       "      <td>0.685144</td>\n",
       "      <td>0.638388</td>\n",
       "      <td>-0.067615</td>\n",
       "      <td>0.036766</td>\n",
       "    </tr>\n",
       "    <tr>\n",
       "      <th>Assists</th>\n",
       "      <td>0.166206</td>\n",
       "      <td>0.358768</td>\n",
       "      <td>0.667839</td>\n",
       "      <td>0.638850</td>\n",
       "      <td>0.436118</td>\n",
       "      <td>0.456891</td>\n",
       "      <td>0.565222</td>\n",
       "      <td>0.625861</td>\n",
       "      <td>0.594544</td>\n",
       "      <td>0.572375</td>\n",
       "      <td>...</td>\n",
       "      <td>0.376907</td>\n",
       "      <td>0.307005</td>\n",
       "      <td>1.000000</td>\n",
       "      <td>0.622998</td>\n",
       "      <td>0.097571</td>\n",
       "      <td>0.787321</td>\n",
       "      <td>0.386481</td>\n",
       "      <td>0.654946</td>\n",
       "      <td>0.012304</td>\n",
       "      <td>0.011570</td>\n",
       "    </tr>\n",
       "    <tr>\n",
       "      <th>Steals</th>\n",
       "      <td>0.099512</td>\n",
       "      <td>0.398516</td>\n",
       "      <td>0.721568</td>\n",
       "      <td>0.616823</td>\n",
       "      <td>0.433573</td>\n",
       "      <td>0.450801</td>\n",
       "      <td>0.539500</td>\n",
       "      <td>0.567888</td>\n",
       "      <td>0.501637</td>\n",
       "      <td>0.506817</td>\n",
       "      <td>...</td>\n",
       "      <td>0.466127</td>\n",
       "      <td>0.423273</td>\n",
       "      <td>0.622998</td>\n",
       "      <td>1.000000</td>\n",
       "      <td>0.292202</td>\n",
       "      <td>0.606836</td>\n",
       "      <td>0.523701</td>\n",
       "      <td>0.619552</td>\n",
       "      <td>-0.023253</td>\n",
       "      <td>0.004354</td>\n",
       "    </tr>\n",
       "    <tr>\n",
       "      <th>Blocks</th>\n",
       "      <td>0.028452</td>\n",
       "      <td>0.279222</td>\n",
       "      <td>0.406813</td>\n",
       "      <td>0.419041</td>\n",
       "      <td>-0.009084</td>\n",
       "      <td>-0.013334</td>\n",
       "      <td>0.508466</td>\n",
       "      <td>0.434661</td>\n",
       "      <td>0.351993</td>\n",
       "      <td>0.419441</td>\n",
       "      <td>...</td>\n",
       "      <td>0.640083</td>\n",
       "      <td>0.682091</td>\n",
       "      <td>0.097571</td>\n",
       "      <td>0.292202</td>\n",
       "      <td>1.000000</td>\n",
       "      <td>0.326092</td>\n",
       "      <td>0.556516</td>\n",
       "      <td>0.379920</td>\n",
       "      <td>-0.038002</td>\n",
       "      <td>0.075287</td>\n",
       "    </tr>\n",
       "    <tr>\n",
       "      <th>Turnovers</th>\n",
       "      <td>0.090413</td>\n",
       "      <td>0.389481</td>\n",
       "      <td>0.750075</td>\n",
       "      <td>0.783877</td>\n",
       "      <td>0.415331</td>\n",
       "      <td>0.439239</td>\n",
       "      <td>0.749310</td>\n",
       "      <td>0.789734</td>\n",
       "      <td>0.731179</td>\n",
       "      <td>0.744092</td>\n",
       "      <td>...</td>\n",
       "      <td>0.602921</td>\n",
       "      <td>0.559383</td>\n",
       "      <td>0.787321</td>\n",
       "      <td>0.606836</td>\n",
       "      <td>0.326092</td>\n",
       "      <td>1.000000</td>\n",
       "      <td>0.601546</td>\n",
       "      <td>0.787107</td>\n",
       "      <td>0.013678</td>\n",
       "      <td>-0.008730</td>\n",
       "    </tr>\n",
       "    <tr>\n",
       "      <th>Personal Fouls</th>\n",
       "      <td>0.106404</td>\n",
       "      <td>0.446992</td>\n",
       "      <td>0.731160</td>\n",
       "      <td>0.637426</td>\n",
       "      <td>0.327431</td>\n",
       "      <td>0.336978</td>\n",
       "      <td>0.614351</td>\n",
       "      <td>0.594473</td>\n",
       "      <td>0.523040</td>\n",
       "      <td>0.559758</td>\n",
       "      <td>...</td>\n",
       "      <td>0.687363</td>\n",
       "      <td>0.685144</td>\n",
       "      <td>0.386481</td>\n",
       "      <td>0.523701</td>\n",
       "      <td>0.556516</td>\n",
       "      <td>0.601546</td>\n",
       "      <td>1.000000</td>\n",
       "      <td>0.624416</td>\n",
       "      <td>-0.015977</td>\n",
       "      <td>0.011320</td>\n",
       "    </tr>\n",
       "    <tr>\n",
       "      <th>Points</th>\n",
       "      <td>0.114229</td>\n",
       "      <td>0.511645</td>\n",
       "      <td>0.893409</td>\n",
       "      <td>0.988551</td>\n",
       "      <td>0.663184</td>\n",
       "      <td>0.658274</td>\n",
       "      <td>0.879515</td>\n",
       "      <td>0.899072</td>\n",
       "      <td>0.860080</td>\n",
       "      <td>0.845432</td>\n",
       "      <td>...</td>\n",
       "      <td>0.690645</td>\n",
       "      <td>0.638388</td>\n",
       "      <td>0.654946</td>\n",
       "      <td>0.619552</td>\n",
       "      <td>0.379920</td>\n",
       "      <td>0.787107</td>\n",
       "      <td>0.624416</td>\n",
       "      <td>1.000000</td>\n",
       "      <td>-0.024354</td>\n",
       "      <td>0.014147</td>\n",
       "    </tr>\n",
       "    <tr>\n",
       "      <th>Rank</th>\n",
       "      <td>-0.048670</td>\n",
       "      <td>-0.035053</td>\n",
       "      <td>-0.056994</td>\n",
       "      <td>-0.018380</td>\n",
       "      <td>-0.038043</td>\n",
       "      <td>-0.037093</td>\n",
       "      <td>-0.003439</td>\n",
       "      <td>-0.000952</td>\n",
       "      <td>-0.025017</td>\n",
       "      <td>-0.029257</td>\n",
       "      <td>...</td>\n",
       "      <td>-0.067723</td>\n",
       "      <td>-0.067615</td>\n",
       "      <td>0.012304</td>\n",
       "      <td>-0.023253</td>\n",
       "      <td>-0.038002</td>\n",
       "      <td>0.013678</td>\n",
       "      <td>-0.015977</td>\n",
       "      <td>-0.024354</td>\n",
       "      <td>1.000000</td>\n",
       "      <td>-0.012096</td>\n",
       "    </tr>\n",
       "    <tr>\n",
       "      <th>Year</th>\n",
       "      <td>-0.039391</td>\n",
       "      <td>-0.104116</td>\n",
       "      <td>0.009645</td>\n",
       "      <td>0.007369</td>\n",
       "      <td>0.055564</td>\n",
       "      <td>0.059990</td>\n",
       "      <td>-0.016168</td>\n",
       "      <td>-0.039676</td>\n",
       "      <td>0.003672</td>\n",
       "      <td>0.002334</td>\n",
       "      <td>...</td>\n",
       "      <td>0.037747</td>\n",
       "      <td>0.036766</td>\n",
       "      <td>0.011570</td>\n",
       "      <td>0.004354</td>\n",
       "      <td>0.075287</td>\n",
       "      <td>-0.008730</td>\n",
       "      <td>0.011320</td>\n",
       "      <td>0.014147</td>\n",
       "      <td>-0.012096</td>\n",
       "      <td>1.000000</td>\n",
       "    </tr>\n",
       "  </tbody>\n",
       "</table>\n",
       "<p>21 rows × 21 columns</p>\n",
       "</div>"
      ],
      "text/plain": [
       "                                    Age     Games  Minutes Played  \\\n",
       "Age                            1.000000  0.088969        0.171115   \n",
       "Games                          0.088969  1.000000        0.596937   \n",
       "Minutes Played                 0.171115  0.596937        1.000000   \n",
       "Fields_goal                    0.094594  0.516813        0.884895   \n",
       "3-points Field Goal            0.181961  0.378877        0.663815   \n",
       "3-points Field Goal Attempted  0.166993  0.352571        0.674499   \n",
       "2-points Field Goal            0.029438  0.444201        0.754493   \n",
       "2-points Field Goal Attempted  0.032611  0.431684        0.779604   \n",
       "Free Throws                    0.090088  0.368984        0.710101   \n",
       "Free Throws Attempted          0.062868  0.370781        0.707250   \n",
       "Offensive Rebounds             0.003821  0.291184        0.405187   \n",
       "Defensive Rebounds             0.108814  0.447303        0.715269   \n",
       "Total Rebounds                 0.081984  0.424720        0.659416   \n",
       "Assists                        0.166206  0.358768        0.667839   \n",
       "Steals                         0.099512  0.398516        0.721568   \n",
       "Blocks                         0.028452  0.279222        0.406813   \n",
       "Turnovers                      0.090413  0.389481        0.750075   \n",
       "Personal Fouls                 0.106404  0.446992        0.731160   \n",
       "Points                         0.114229  0.511645        0.893409   \n",
       "Rank                          -0.048670 -0.035053       -0.056994   \n",
       "Year                          -0.039391 -0.104116        0.009645   \n",
       "\n",
       "                               Fields_goal  3-points Field Goal  \\\n",
       "Age                               0.094594             0.181961   \n",
       "Games                             0.516813             0.378877   \n",
       "Minutes Played                    0.884895             0.663815   \n",
       "Fields_goal                       1.000000             0.592559   \n",
       "3-points Field Goal               0.592559             1.000000   \n",
       "3-points Field Goal Attempted     0.587146             0.973069   \n",
       "2-points Field Goal               0.926127             0.245793   \n",
       "2-points Field Goal Attempted     0.932990             0.312490   \n",
       "Free Throws                       0.812332             0.403240   \n",
       "Free Throws Attempted             0.811621             0.332926   \n",
       "Offensive Rebounds                0.458150            -0.156255   \n",
       "Defensive Rebounds                0.716011             0.263554   \n",
       "Total Rebounds                    0.676913             0.146395   \n",
       "Assists                           0.638850             0.436118   \n",
       "Steals                            0.616823             0.433573   \n",
       "Blocks                            0.419041            -0.009084   \n",
       "Turnovers                         0.783877             0.415331   \n",
       "Personal Fouls                    0.637426             0.327431   \n",
       "Points                            0.988551             0.663184   \n",
       "Rank                             -0.018380            -0.038043   \n",
       "Year                              0.007369             0.055564   \n",
       "\n",
       "                               3-points Field Goal Attempted  \\\n",
       "Age                                                 0.166993   \n",
       "Games                                               0.352571   \n",
       "Minutes Played                                      0.674499   \n",
       "Fields_goal                                         0.587146   \n",
       "3-points Field Goal                                 0.973069   \n",
       "3-points Field Goal Attempted                       1.000000   \n",
       "2-points Field Goal                                 0.251316   \n",
       "2-points Field Goal Attempted                       0.323646   \n",
       "Free Throws                                         0.417335   \n",
       "Free Throws Attempted                               0.348860   \n",
       "Offensive Rebounds                                 -0.169575   \n",
       "Defensive Rebounds                                  0.262516   \n",
       "Total Rebounds                                      0.141343   \n",
       "Assists                                             0.456891   \n",
       "Steals                                              0.450801   \n",
       "Blocks                                             -0.013334   \n",
       "Turnovers                                           0.439239   \n",
       "Personal Fouls                                      0.336978   \n",
       "Points                                              0.658274   \n",
       "Rank                                               -0.037093   \n",
       "Year                                                0.059990   \n",
       "\n",
       "                               2-points Field Goal  \\\n",
       "Age                                       0.029438   \n",
       "Games                                     0.444201   \n",
       "Minutes Played                            0.754493   \n",
       "Fields_goal                               0.926127   \n",
       "3-points Field Goal                       0.245793   \n",
       "3-points Field Goal Attempted             0.251316   \n",
       "2-points Field Goal                       1.000000   \n",
       "2-points Field Goal Attempted             0.976691   \n",
       "Free Throws                               0.789135   \n",
       "Free Throws Attempted                     0.821190   \n",
       "Offensive Rebounds                        0.624902   \n",
       "Defensive Rebounds                        0.738862   \n",
       "Total Rebounds                            0.746622   \n",
       "Assists                                   0.565222   \n",
       "Steals                                    0.539500   \n",
       "Blocks                                    0.508466   \n",
       "Turnovers                                 0.749310   \n",
       "Personal Fouls                            0.614351   \n",
       "Points                                    0.879515   \n",
       "Rank                                     -0.003439   \n",
       "Year                                     -0.016168   \n",
       "\n",
       "                               2-points Field Goal Attempted  Free Throws  \\\n",
       "Age                                                 0.032611     0.090088   \n",
       "Games                                               0.431684     0.368984   \n",
       "Minutes Played                                      0.779604     0.710101   \n",
       "Fields_goal                                         0.932990     0.812332   \n",
       "3-points Field Goal                                 0.312490     0.403240   \n",
       "3-points Field Goal Attempted                       0.323646     0.417335   \n",
       "2-points Field Goal                                 0.976691     0.789135   \n",
       "2-points Field Goal Attempted                       1.000000     0.813496   \n",
       "Free Throws                                         0.813496     1.000000   \n",
       "Free Throws Attempted                               0.834333     0.978969   \n",
       "Offensive Rebounds                                  0.537630     0.391985   \n",
       "Defensive Rebounds                                  0.697595     0.609863   \n",
       "Total Rebounds                                      0.688473     0.577269   \n",
       "Assists                                             0.625861     0.594544   \n",
       "Steals                                              0.567888     0.501637   \n",
       "Blocks                                              0.434661     0.351993   \n",
       "Turnovers                                           0.789734     0.731179   \n",
       "Personal Fouls                                      0.594473     0.523040   \n",
       "Points                                              0.899072     0.860080   \n",
       "Rank                                               -0.000952    -0.025017   \n",
       "Year                                               -0.039676     0.003672   \n",
       "\n",
       "                               Free Throws Attempted  ...  Defensive Rebounds  \\\n",
       "Age                                         0.062868  ...            0.108814   \n",
       "Games                                       0.370781  ...            0.447303   \n",
       "Minutes Played                              0.707250  ...            0.715269   \n",
       "Fields_goal                                 0.811621  ...            0.716011   \n",
       "3-points Field Goal                         0.332926  ...            0.263554   \n",
       "3-points Field Goal Attempted               0.348860  ...            0.262516   \n",
       "2-points Field Goal                         0.821190  ...            0.738862   \n",
       "2-points Field Goal Attempted               0.834333  ...            0.697595   \n",
       "Free Throws                                 0.978969  ...            0.609863   \n",
       "Free Throws Attempted                       1.000000  ...            0.658468   \n",
       "Offensive Rebounds                          0.480534  ...            0.739729   \n",
       "Defensive Rebounds                          0.658468  ...            1.000000   \n",
       "Total Rebounds                              0.641281  ...            0.977144   \n",
       "Assists                                     0.572375  ...            0.376907   \n",
       "Steals                                      0.506817  ...            0.466127   \n",
       "Blocks                                      0.419441  ...            0.640083   \n",
       "Turnovers                                   0.744092  ...            0.602921   \n",
       "Personal Fouls                              0.559758  ...            0.687363   \n",
       "Points                                      0.845432  ...            0.690645   \n",
       "Rank                                       -0.029257  ...           -0.067723   \n",
       "Year                                        0.002334  ...            0.037747   \n",
       "\n",
       "                               Total Rebounds   Assists    Steals    Blocks  \\\n",
       "Age                                  0.081984  0.166206  0.099512  0.028452   \n",
       "Games                                0.424720  0.358768  0.398516  0.279222   \n",
       "Minutes Played                       0.659416  0.667839  0.721568  0.406813   \n",
       "Fields_goal                          0.676913  0.638850  0.616823  0.419041   \n",
       "3-points Field Goal                  0.146395  0.436118  0.433573 -0.009084   \n",
       "3-points Field Goal Attempted        0.141343  0.456891  0.450801 -0.013334   \n",
       "2-points Field Goal                  0.746622  0.565222  0.539500  0.508466   \n",
       "2-points Field Goal Attempted        0.688473  0.625861  0.567888  0.434661   \n",
       "Free Throws                          0.577269  0.594544  0.501637  0.351993   \n",
       "Free Throws Attempted                0.641281  0.572375  0.506817  0.419441   \n",
       "Offensive Rebounds                   0.865235  0.084465  0.243147  0.653292   \n",
       "Defensive Rebounds                   0.977144  0.376907  0.466127  0.640083   \n",
       "Total Rebounds                       1.000000  0.307005  0.423273  0.682091   \n",
       "Assists                              0.307005  1.000000  0.622998  0.097571   \n",
       "Steals                               0.423273  0.622998  1.000000  0.292202   \n",
       "Blocks                               0.682091  0.097571  0.292202  1.000000   \n",
       "Turnovers                            0.559383  0.787321  0.606836  0.326092   \n",
       "Personal Fouls                       0.685144  0.386481  0.523701  0.556516   \n",
       "Points                               0.638388  0.654946  0.619552  0.379920   \n",
       "Rank                                -0.067615  0.012304 -0.023253 -0.038002   \n",
       "Year                                 0.036766  0.011570  0.004354  0.075287   \n",
       "\n",
       "                               Turnovers  Personal Fouls    Points      Rank  \\\n",
       "Age                             0.090413        0.106404  0.114229 -0.048670   \n",
       "Games                           0.389481        0.446992  0.511645 -0.035053   \n",
       "Minutes Played                  0.750075        0.731160  0.893409 -0.056994   \n",
       "Fields_goal                     0.783877        0.637426  0.988551 -0.018380   \n",
       "3-points Field Goal             0.415331        0.327431  0.663184 -0.038043   \n",
       "3-points Field Goal Attempted   0.439239        0.336978  0.658274 -0.037093   \n",
       "2-points Field Goal             0.749310        0.614351  0.879515 -0.003439   \n",
       "2-points Field Goal Attempted   0.789734        0.594473  0.899072 -0.000952   \n",
       "Free Throws                     0.731179        0.523040  0.860080 -0.025017   \n",
       "Free Throws Attempted           0.744092        0.559758  0.845432 -0.029257   \n",
       "Offensive Rebounds              0.352369        0.553389  0.395831 -0.054434   \n",
       "Defensive Rebounds              0.602921        0.687363  0.690645 -0.067723   \n",
       "Total Rebounds                  0.559383        0.685144  0.638388 -0.067615   \n",
       "Assists                         0.787321        0.386481  0.654946  0.012304   \n",
       "Steals                          0.606836        0.523701  0.619552 -0.023253   \n",
       "Blocks                          0.326092        0.556516  0.379920 -0.038002   \n",
       "Turnovers                       1.000000        0.601546  0.787107  0.013678   \n",
       "Personal Fouls                  0.601546        1.000000  0.624416 -0.015977   \n",
       "Points                          0.787107        0.624416  1.000000 -0.024354   \n",
       "Rank                            0.013678       -0.015977 -0.024354  1.000000   \n",
       "Year                           -0.008730        0.011320  0.014147 -0.012096   \n",
       "\n",
       "                                   Year  \n",
       "Age                           -0.039391  \n",
       "Games                         -0.104116  \n",
       "Minutes Played                 0.009645  \n",
       "Fields_goal                    0.007369  \n",
       "3-points Field Goal            0.055564  \n",
       "3-points Field Goal Attempted  0.059990  \n",
       "2-points Field Goal           -0.016168  \n",
       "2-points Field Goal Attempted -0.039676  \n",
       "Free Throws                    0.003672  \n",
       "Free Throws Attempted          0.002334  \n",
       "Offensive Rebounds             0.026807  \n",
       "Defensive Rebounds             0.037747  \n",
       "Total Rebounds                 0.036766  \n",
       "Assists                        0.011570  \n",
       "Steals                         0.004354  \n",
       "Blocks                         0.075287  \n",
       "Turnovers                     -0.008730  \n",
       "Personal Fouls                 0.011320  \n",
       "Points                         0.014147  \n",
       "Rank                          -0.012096  \n",
       "Year                           1.000000  \n",
       "\n",
       "[21 rows x 21 columns]"
      ]
     },
     "execution_count": 156,
     "metadata": {},
     "output_type": "execute_result"
    }
   ],
   "source": [
    "corrmat=numerical.corr()\n",
    "corrmat"
   ]
  },
  {
   "cell_type": "code",
   "execution_count": 159,
   "id": "21b3bce7",
   "metadata": {},
   "outputs": [
    {
     "data": {
      "text/plain": [
       "<AxesSubplot:>"
      ]
     },
     "execution_count": 159,
     "metadata": {},
     "output_type": "execute_result"
    },
    {
     "data": {
      "image/png": "[encoded data removed]",
      "text/plain": [
       "<Figure size 1080x720 with 2 Axes>"
      ]
     },
     "metadata": {
      "needs_background": "light"
     },
     "output_type": "display_data"
    }
   ],
   "source": [
    "plt.figure(figsize=(15,10))\n",
    "sns.heatmap(corrmat,annot=True)"
   ]
  },
  {
   "cell_type": "code",
   "execution_count": 160,
   "id": "c44c8d43",
   "metadata": {},
   "outputs": [],
   "source": [
    "import scipy\n"
   ]
  },
  {
   "cell_type": "code",
   "execution_count": 164,
   "id": "3ad64705",
   "metadata": {},
   "outputs": [
    {
     "data": {
      "text/plain": [
       "Ttest_relResult(statistic=-270.85236129398925, pvalue=0.0)"
      ]
     },
     "execution_count": 164,
     "metadata": {},
     "output_type": "execute_result"
    }
   ],
   "source": [
    "onesam=scipy.stats.ttest_rel(df.Fields_goal,df['Age'])\n",
    "onesam"
   ]
  },
  {
   "cell_type": "markdown",
   "id": "945afabe",
   "metadata": {},
   "source": [
    "age,3-points field goal,2-points field goal,free throws,offensive bounds,blocks,rank,year"
   ]
  },
  {
   "cell_type": "code",
   "execution_count": 195,
   "id": "bbd317f4",
   "metadata": {},
   "outputs": [],
   "source": [
    "x=df.drop(['Age','3-points Field Goal','2-points Field Goal','Free Throws','Offensive Rebounds','Blocks','Rank','Year','Fields_goal','Pos','Team','Player'],axis=1)\n",
    "y=df[['Fields_goal']]"
   ]
  },
  {
   "cell_type": "code",
   "execution_count": 207,
   "id": "3cd22e3f",
   "metadata": {},
   "outputs": [
    {
     "name": "stdout",
     "output_type": "stream",
     "text": [
      "<class 'pandas.core.frame.DataFrame'>\n",
      "Int64Index: 2605 entries, 0 to 2727\n",
      "Data columns (total 13 columns):\n",
      " #   Column                         Non-Null Count  Dtype  \n",
      "---  ------                         --------------  -----  \n",
      " 0   const                          2605 non-null   float64\n",
      " 1   Games                          2605 non-null   int64  \n",
      " 2   Minutes Played                 2605 non-null   float64\n",
      " 3   3-points Field Goal Attempted  2605 non-null   float64\n",
      " 4   2-points Field Goal Attempted  2605 non-null   float64\n",
      " 5   Free Throws Attempted          2605 non-null   float64\n",
      " 6   Defensive Rebounds             2605 non-null   float64\n",
      " 7   Total Rebounds                 2605 non-null   float64\n",
      " 8   Assists                        2605 non-null   float64\n",
      " 9   Steals                         2605 non-null   float64\n",
      " 10  Turnovers                      2605 non-null   float64\n",
      " 11  Personal Fouls                 2605 non-null   float64\n",
      " 12  Points                         2605 non-null   float64\n",
      "dtypes: float64(12), int64(1)\n",
      "memory usage: 349.5 KB\n"
     ]
    }
   ],
   "source": [
    "x.info()"
   ]
  },
  {
   "cell_type": "code",
   "execution_count": 196,
   "id": "e611157f",
   "metadata": {},
   "outputs": [
    {
     "data": {
      "text/plain": [
       "(2605, 12)"
      ]
     },
     "execution_count": 196,
     "metadata": {},
     "output_type": "execute_result"
    }
   ],
   "source": [
    "x.shape"
   ]
  },
  {
   "cell_type": "code",
   "execution_count": 197,
   "id": "07bc3be2",
   "metadata": {},
   "outputs": [],
   "source": [
    "from sklearn.model_selection import train_test_split"
   ]
  },
  {
   "cell_type": "code",
   "execution_count": 234,
   "id": "587961f6",
   "metadata": {},
   "outputs": [],
   "source": [
    "xtrain,xtest,ytrain,ytest=train_test_split(x,y,test_size=0.25,random_state=677)"
   ]
  },
  {
   "cell_type": "code",
   "execution_count": 235,
   "id": "26c4beb8",
   "metadata": {},
   "outputs": [
    {
     "name": "stdout",
     "output_type": "stream",
     "text": [
      "xtrain : (1953, 13)\n",
      "xtest : (652, 13)\n",
      "ytrain : (1953, 1)\n",
      "ytest : (652, 1)\n"
     ]
    }
   ],
   "source": [
    "print(\"xtrain :\",xtrain.shape)\n",
    "print(\"xtest :\",xtest.shape)\n",
    "print(\"ytrain :\",ytrain.shape)\n",
    "print(\"ytest :\",ytest.shape)"
   ]
  },
  {
   "cell_type": "code",
   "execution_count": 241,
   "id": "d0cc0ab2",
   "metadata": {},
   "outputs": [
    {
     "data": {
      "text/html": [
       "<div>\n",
       "<style scoped>\n",
       "    .dataframe tbody tr th:only-of-type {\n",
       "        vertical-align: middle;\n",
       "    }\n",
       "\n",
       "    .dataframe tbody tr th {\n",
       "        vertical-align: top;\n",
       "    }\n",
       "\n",
       "    .dataframe thead th {\n",
       "        text-align: right;\n",
       "    }\n",
       "</style>\n",
       "<table border=\"1\" class=\"dataframe\">\n",
       "  <thead>\n",
       "    <tr style=\"text-align: right;\">\n",
       "      <th></th>\n",
       "      <th>Fields_goal</th>\n",
       "    </tr>\n",
       "  </thead>\n",
       "  <tbody>\n",
       "    <tr>\n",
       "      <th>481</th>\n",
       "      <td>1.0</td>\n",
       "    </tr>\n",
       "    <tr>\n",
       "      <th>853</th>\n",
       "      <td>1.7</td>\n",
       "    </tr>\n",
       "    <tr>\n",
       "      <th>2134</th>\n",
       "      <td>0.8</td>\n",
       "    </tr>\n",
       "    <tr>\n",
       "      <th>652</th>\n",
       "      <td>0.8</td>\n",
       "    </tr>\n",
       "    <tr>\n",
       "      <th>684</th>\n",
       "      <td>0.0</td>\n",
       "    </tr>\n",
       "    <tr>\n",
       "      <th>...</th>\n",
       "      <td>...</td>\n",
       "    </tr>\n",
       "    <tr>\n",
       "      <th>1014</th>\n",
       "      <td>1.2</td>\n",
       "    </tr>\n",
       "    <tr>\n",
       "      <th>297</th>\n",
       "      <td>0.5</td>\n",
       "    </tr>\n",
       "    <tr>\n",
       "      <th>462</th>\n",
       "      <td>6.1</td>\n",
       "    </tr>\n",
       "    <tr>\n",
       "      <th>2008</th>\n",
       "      <td>1.5</td>\n",
       "    </tr>\n",
       "    <tr>\n",
       "      <th>990</th>\n",
       "      <td>5.1</td>\n",
       "    </tr>\n",
       "  </tbody>\n",
       "</table>\n",
       "<p>652 rows × 1 columns</p>\n",
       "</div>"
      ],
      "text/plain": [
       "      Fields_goal\n",
       "481           1.0\n",
       "853           1.7\n",
       "2134          0.8\n",
       "652           0.8\n",
       "684           0.0\n",
       "...           ...\n",
       "1014          1.2\n",
       "297           0.5\n",
       "462           6.1\n",
       "2008          1.5\n",
       "990           5.1\n",
       "\n",
       "[652 rows x 1 columns]"
      ]
     },
     "execution_count": 241,
     "metadata": {},
     "output_type": "execute_result"
    }
   ],
   "source": [
    "ytest"
   ]
  },
  {
   "cell_type": "code",
   "execution_count": 236,
   "id": "930db388",
   "metadata": {},
   "outputs": [],
   "source": [
    "x = sm.add_constant(x)"
   ]
  },
  {
   "cell_type": "code",
   "execution_count": 237,
   "id": "01a399b4",
   "metadata": {},
   "outputs": [],
   "source": [
    "result = sm.OLS(ytrain, xtrain).fit()"
   ]
  },
  {
   "cell_type": "code",
   "execution_count": 238,
   "id": "79fed95f",
   "metadata": {},
   "outputs": [
    {
     "name": "stdout",
     "output_type": "stream",
     "text": [
      "                            OLS Regression Results                            \n",
      "==============================================================================\n",
      "Dep. Variable:            Fields_goal   R-squared:                       0.997\n",
      "Model:                            OLS   Adj. R-squared:                  0.997\n",
      "Method:                 Least Squares   F-statistic:                 5.458e+04\n",
      "Date:                Fri, 01 Oct 2021   Prob (F-statistic):               0.00\n",
      "Time:                        12:01:09   Log-Likelihood:                 1737.6\n",
      "No. Observations:                1953   AIC:                            -3449.\n",
      "Df Residuals:                    1940   BIC:                            -3377.\n",
      "Df Model:                          12                                         \n",
      "Covariance Type:            nonrobust                                         \n",
      "=================================================================================================\n",
      "                                    coef    std err          t      P>|t|      [0.025      0.975]\n",
      "-------------------------------------------------------------------------------------------------\n",
      "const                             0.0056      0.006      0.938      0.349      -0.006       0.017\n",
      "Games                             -5e-05      0.000     -0.429      0.668      -0.000       0.000\n",
      "Minutes Played                   -0.0011      0.001     -1.210      0.227      -0.003       0.001\n",
      "3-points Field Goal Attempted    -0.0861      0.004    -21.454      0.000      -0.094      -0.078\n",
      "2-points Field Goal Attempted     0.1027      0.004     29.027      0.000       0.096       0.110\n",
      "Free Throws Attempted            -0.3066      0.004    -74.775      0.000      -0.315      -0.299\n",
      "Defensive Rebounds               -0.0684      0.008     -8.755      0.000      -0.084      -0.053\n",
      "Total Rebounds                    0.0768      0.006     12.532      0.000       0.065       0.089\n",
      "Assists                          -0.0108      0.003     -3.653      0.000      -0.017      -0.005\n",
      "Steals                            0.0344      0.009      3.965      0.000       0.017       0.051\n",
      "Turnovers                         0.0093      0.007      1.258      0.209      -0.005       0.024\n",
      "Personal Fouls                    0.0125      0.005      2.581      0.010       0.003       0.022\n",
      "Points                            0.3929      0.003    131.905      0.000       0.387       0.399\n",
      "==============================================================================\n",
      "Omnibus:                      177.332   Durbin-Watson:                   1.998\n",
      "Prob(Omnibus):                  0.000   Jarque-Bera (JB):             1132.733\n",
      "Skew:                           0.101   Prob(JB):                    1.07e-246\n",
      "Kurtosis:                       6.725   Cond. No.                         228.\n",
      "==============================================================================\n",
      "\n",
      "Notes:\n",
      "[1] Standard Errors assume that the covariance matrix of the errors is correctly specified.\n"
     ]
    }
   ],
   "source": [
    "print(result.summary())"
   ]
  },
  {
   "cell_type": "code",
   "execution_count": 239,
   "id": "601f0330",
   "metadata": {},
   "outputs": [
    {
     "data": {
      "text/plain": [
       "481     1.035427\n",
       "853     1.685896\n",
       "2134    0.801662\n",
       "652     0.759957\n",
       "684    -0.023534\n",
       "          ...   \n",
       "1014    1.212205\n",
       "297     0.473325\n",
       "462     6.040235\n",
       "2008    1.483892\n",
       "990     5.149132\n",
       "Length: 652, dtype: float64"
      ]
     },
     "execution_count": 239,
     "metadata": {},
     "output_type": "execute_result"
    }
   ],
   "source": [
    "ypred=result.predict(xtest)\n",
    "ypred"
   ]
  },
  {
   "cell_type": "code",
   "execution_count": 215,
   "id": "e64dea27",
   "metadata": {},
   "outputs": [],
   "source": [
    "from sklearn.linear_model import SGDRegressor\n",
    "from sklearn import preprocessing"
   ]
  },
  {
   "cell_type": "code",
   "execution_count": 217,
   "id": "4111d861",
   "metadata": {},
   "outputs": [],
   "source": [
    "scaler = preprocessing.StandardScaler()\n",
    "X_train = scaler.fit_transform(xtrain)\n",
    "X_test = scaler.transform(xtest)"
   ]
  },
  {
   "cell_type": "code",
   "execution_count": 219,
   "id": "e7862069",
   "metadata": {},
   "outputs": [
    {
     "name": "stderr",
     "output_type": "stream",
     "text": [
      "C:\\ProgramData\\Anaconda3\\lib\\site-packages\\sklearn\\utils\\validation.py:63: DataConversionWarning: A column-vector y was passed when a 1d array was expected. Please change the shape of y to (n_samples, ), for example using ravel().\n",
      "  return f(*args, **kwargs)\n"
     ]
    }
   ],
   "source": [
    "clf = SGDRegressor(max_iter=500, tol=1e-3)\n",
    "clf.fit(X_train, ytrain)\n",
    "y_pred = clf.predict(X_test)"
   ]
  },
  {
   "cell_type": "code",
   "execution_count": 221,
   "id": "824a22d9",
   "metadata": {},
   "outputs": [
    {
     "data": {
      "text/plain": [
       "array([ 6.97794755e-01,  1.70731373e+00,  7.69709834e-01,  7.18687621e-01,\n",
       "        2.08838109e-01,  4.15048892e+00,  3.32524258e+00,  4.56728603e+00,\n",
       "        7.27090416e-01,  8.70593939e-01,  5.46299216e+00,  6.04544493e+00,\n",
       "        1.33325178e+00,  1.00153299e+00,  3.29584757e+00,  6.71221632e+00,\n",
       "        3.63272001e+00,  4.44065053e+00,  3.54599044e+00,  3.46749328e-01,\n",
       "        3.90757472e+00,  2.88455532e+00,  7.10351306e+00,  8.37465483e-01,\n",
       "        2.09905796e+00,  3.14470243e+00,  7.73187434e+00,  1.52300509e+00,\n",
       "        6.46218481e+00,  5.64542436e+00,  9.53653934e-01,  8.18343184e-01,\n",
       "        7.01041323e+00,  4.01801862e+00,  4.58225540e+00,  5.69947257e+00,\n",
       "        3.26573039e+00,  1.42316457e+00,  1.67322805e+00,  4.03575051e-01,\n",
       "        8.00885733e+00,  1.85519940e+00,  2.84632069e+00,  1.01724265e+00,\n",
       "        2.87340286e+00,  2.90694296e-01,  2.12276464e+00,  4.73478989e+00,\n",
       "        4.37800438e+00,  3.24390522e+00,  2.51468418e-01,  4.50236507e+00,\n",
       "        1.30759559e+00,  7.46740203e+00,  1.14400256e+00,  1.68526978e+00,\n",
       "        2.44381559e+00,  6.19464545e+00,  2.52849088e+00,  1.41771855e+00,\n",
       "        5.72914854e+00,  5.36469045e+00,  8.18591698e-01,  3.32952188e+00,\n",
       "        4.95133032e+00,  2.95734222e+00,  2.46321156e+00,  4.98383265e+00,\n",
       "        3.89874122e-01,  7.35870111e-01,  2.93310202e+00,  5.22021985e+00,\n",
       "        1.30697685e+00,  4.41536463e+00,  1.45868684e+00,  2.75440207e+00,\n",
       "        9.52950434e-01,  1.06514261e+00,  1.35562615e+00,  1.23121605e+00,\n",
       "        3.13956796e+00,  9.23733454e-01,  7.65813896e+00,  6.42727620e-01,\n",
       "        1.20170845e+00,  3.27047892e+00,  5.35897601e+00,  4.70292839e-01,\n",
       "       -2.33619452e-02,  5.79568630e+00,  5.93786345e+00,  4.67932414e+00,\n",
       "        3.06632880e+00,  3.70425767e+00,  2.52132840e+00,  1.96490463e-01,\n",
       "        1.21587625e+00,  1.63410381e+00,  3.57533290e+00,  3.58171862e+00,\n",
       "        8.54301320e-01,  1.16067005e+00,  1.44521432e+00,  1.55875054e+00,\n",
       "        1.48158422e+00,  5.09582223e+00,  5.15280824e+00,  4.90249929e-01,\n",
       "        2.46989096e+00,  6.10952922e-01,  2.18734717e+00,  3.12377787e+00,\n",
       "        2.10617542e+00,  1.02229433e+00,  8.31923743e-01,  5.15537291e+00,\n",
       "        4.12652506e+00,  3.23301491e+00, -3.48781490e-02,  4.62758269e+00,\n",
       "        3.62237495e+00,  7.24518528e-01,  2.04646253e+00,  3.22176446e+00,\n",
       "        4.06082137e+00,  1.98113701e+00,  1.60595719e+00,  6.30152168e+00,\n",
       "        7.51901905e+00,  1.22134039e+00,  4.48819208e+00,  2.87309054e+00,\n",
       "        2.30106635e+00,  4.74227277e+00,  1.33184984e+00,  5.84134721e+00,\n",
       "        7.38285007e+00,  2.64189030e+00,  7.00930728e+00,  2.83219473e+00,\n",
       "        1.66632063e+00,  2.76600239e-01,  2.92516805e+00,  1.82842562e+00,\n",
       "        2.37432064e+00,  1.05162410e+00,  7.21622297e+00,  1.85981619e+00,\n",
       "       -8.31912084e-02,  4.93721108e-01,  1.60056211e+00,  5.58777403e-01,\n",
       "        6.36778055e+00,  4.53645039e+00,  2.22949011e+00,  1.66798489e+00,\n",
       "        1.53079380e+00,  5.90787069e+00,  6.05635259e+00,  3.47393558e+00,\n",
       "        1.41033303e+00,  3.01520895e+00,  1.35442537e+00,  2.30814171e+00,\n",
       "        2.44349425e+00,  2.83774386e+00,  3.74363866e+00,  1.41420407e+00,\n",
       "        4.31987629e+00,  1.37348831e+00,  1.24074044e+00,  2.11392667e+00,\n",
       "        1.90168371e+00,  6.19674833e-01,  7.59362257e+00,  4.84329147e+00,\n",
       "        1.77935497e+00,  2.10967356e-02,  4.01571873e-01,  1.17483632e+00,\n",
       "        3.85028297e+00,  4.77816336e+00,  2.98700011e+00,  5.39610428e+00,\n",
       "        1.23154676e+00,  5.60275744e-01,  5.14142128e+00,  5.67176934e+00,\n",
       "        2.42769893e+00,  2.05351589e+00,  2.99192641e+00,  3.63737864e+00,\n",
       "        6.83064766e+00,  2.59178300e+00,  4.53403844e+00,  4.56403778e+00,\n",
       "        9.87339592e-01,  2.57463882e+00,  3.59088332e+00,  3.49162065e+00,\n",
       "        8.66079239e-01,  2.83619967e+00,  4.26479676e-01,  1.99383751e+00,\n",
       "        2.32587156e+00,  3.08548548e+00,  1.93736728e+00, -4.21681623e-02,\n",
       "        1.19982100e+00,  2.98612069e+00,  2.59724661e+00,  7.05782781e+00,\n",
       "        1.01161616e+00,  8.08556860e-01,  2.68641371e+00,  2.72209335e+00,\n",
       "        3.00163191e+00,  4.83219664e-01,  3.89545920e+00,  5.51807300e+00,\n",
       "        3.22775401e+00,  2.16801791e+00,  1.84824236e+00,  9.96768208e-01,\n",
       "        1.87871143e-01,  4.35186080e+00,  4.07389460e+00,  4.34386741e+00,\n",
       "        2.59401152e+00,  7.23465268e+00,  8.03231741e-01,  5.06312472e+00,\n",
       "        4.80964020e+00,  5.23168267e+00,  8.84250455e-02,  7.34699147e+00,\n",
       "        1.62061363e+00,  1.64064707e-01,  2.43512461e+00,  1.72951969e+00,\n",
       "        4.08653608e+00,  2.34935571e+00,  3.68586985e+00,  2.88398935e+00,\n",
       "        1.02947265e-01,  6.49176973e+00,  2.20434113e-01,  1.41195184e+00,\n",
       "        2.12038656e+00,  2.67881689e+00,  9.73883788e-01,  2.54812304e+00,\n",
       "        3.13905177e+00,  4.80128233e+00,  5.17497938e+00,  1.70258931e+00,\n",
       "        4.97212897e+00,  2.29531101e+00,  2.42699847e+00,  2.24520665e+00,\n",
       "        3.96398040e+00,  2.47137014e-01,  2.31345452e+00,  1.45495941e+00,\n",
       "       -9.03382523e-02,  5.59591690e+00,  5.83765772e+00,  9.15356591e-01,\n",
       "        2.10599240e+00,  3.93720758e-01,  6.02248614e-01,  2.15583898e+00,\n",
       "        9.67998170e-01,  2.63851104e-01,  4.70624226e+00,  2.57284193e+00,\n",
       "        2.83838670e+00,  2.84877258e+00,  4.09142806e+00,  5.94748299e+00,\n",
       "        6.54829508e+00,  1.51644381e+00,  1.58592988e+00,  7.57927234e+00,\n",
       "        7.57447116e+00,  3.41413084e+00,  4.61737773e+00,  2.26305699e+00,\n",
       "        2.60915023e+00,  1.37740060e+00,  3.64555298e-01,  1.86869536e+00,\n",
       "        2.13806927e-01,  1.89142749e+00,  3.15193005e+00,  3.04277862e+00,\n",
       "        8.73136298e-01,  8.89654986e-01,  5.03520866e+00,  7.21343915e+00,\n",
       "        1.86356990e-01,  5.29666749e+00,  6.36646386e-01,  1.47527751e+00,\n",
       "        6.93517217e+00,  2.38650400e+00,  2.00966428e+00,  2.10424783e+00,\n",
       "        7.88683860e+00,  4.98053720e+00,  1.29797658e+00,  7.74606862e-01,\n",
       "        4.20210539e+00,  1.04901542e+00,  3.38859061e+00,  5.09851273e+00,\n",
       "        3.08991629e+00,  3.13138686e+00,  5.32129236e+00,  1.12069767e+00,\n",
       "        2.88272924e+00,  3.13355575e+00,  3.30731574e+00,  3.91748587e+00,\n",
       "        5.96717266e-01,  2.32297804e+00,  1.21953253e+00,  9.99057454e-01,\n",
       "        3.30565091e+00,  1.05978283e+00,  6.08900500e+00,  1.93505672e+00,\n",
       "        2.81393183e+00,  1.62201284e+00,  1.87615139e+00,  3.53483865e+00,\n",
       "        1.32387520e+00,  5.63976487e+00,  7.50350008e+00,  4.96378453e+00,\n",
       "        1.91483210e+00,  6.85687601e-01,  2.03729594e+00,  2.00359968e+00,\n",
       "        7.33973138e+00,  3.01399304e+00,  4.99214542e+00,  3.91490687e+00,\n",
       "        3.99948227e+00,  1.44001645e+00,  7.70902295e+00,  5.89675433e+00,\n",
       "        5.33003610e+00,  3.26081537e+00,  5.61379762e+00,  1.32111540e+00,\n",
       "        1.06962283e+00,  4.55226823e+00,  4.01635035e+00,  1.11828432e+00,\n",
       "        1.77070780e+00,  7.01416116e+00,  5.57871533e+00,  2.12295510e+00,\n",
       "        5.33704421e-01,  3.10277761e+00,  3.08439107e+00,  1.83330311e+00,\n",
       "        2.21898001e+00,  3.30277888e-01,  4.47696049e+00,  5.20275141e+00,\n",
       "        5.80814714e+00,  8.31087876e-01,  4.74049097e+00,  2.53822189e+00,\n",
       "        2.13650244e+00,  6.26210150e+00,  3.59888364e+00,  2.44745832e+00,\n",
       "        3.22646298e+00,  2.13550441e+00,  1.29455590e+00,  2.38587689e+00,\n",
       "        4.34788599e+00,  5.98605490e+00,  7.64066336e+00,  1.83931511e+00,\n",
       "        3.62825632e+00,  2.67192661e+00,  6.10539621e+00,  2.83125114e+00,\n",
       "        5.55465525e+00,  6.70880936e+00,  5.51182039e-01,  6.62110528e+00,\n",
       "        3.15298530e+00,  2.80474189e+00,  3.87185107e+00,  3.65396120e+00,\n",
       "        1.34587236e+00,  2.58648115e+00,  5.20948502e+00,  5.10890659e-01,\n",
       "        6.75837523e+00,  3.53915744e+00,  3.03492201e+00,  1.87369482e+00,\n",
       "        2.10523321e+00,  3.14975610e+00,  4.02939362e+00,  5.04450671e+00,\n",
       "        2.18352032e+00,  2.04881853e+00,  7.68612663e+00,  2.76045151e+00,\n",
       "        1.55559299e-01,  4.49034946e+00,  4.12366089e+00,  3.45735166e+00,\n",
       "        1.58346143e+00,  1.15722717e+00,  1.92170378e+00,  4.19311363e-01,\n",
       "        2.11766997e+00,  2.34045540e+00,  3.68559366e-01,  1.75012531e+00,\n",
       "        3.00585029e+00, -7.64135985e-02,  1.01963167e+00,  3.24978579e+00,\n",
       "        3.13833966e+00,  7.79723388e-01,  5.36131267e+00,  1.36772367e+00,\n",
       "        2.86367830e+00,  1.41089219e+00,  2.16133617e+00,  1.45181660e+00,\n",
       "        5.19690667e+00,  1.79860223e+00,  1.91941958e+00,  1.95972317e+00,\n",
       "        1.49485456e+00,  2.12109009e+00,  1.64821914e+00,  2.33628181e+00,\n",
       "        5.50005633e+00,  6.25725855e+00,  8.04396000e+00,  1.71664913e+00,\n",
       "        1.45299638e+00,  1.59271319e+00,  1.91079084e+00,  1.64152574e+00,\n",
       "        3.11030664e+00,  1.58610030e+00,  1.60134343e+00,  3.61618998e+00,\n",
       "        2.67597172e+00,  1.64799162e+00,  2.46171772e+00,  3.43694413e+00,\n",
       "        2.43990719e+00,  1.59218867e+00,  3.52737548e+00,  1.32011550e+00,\n",
       "        1.00170149e+00,  1.56420101e+00,  5.83750155e-01,  2.24397193e+00,\n",
       "        3.11808318e+00,  6.31208473e+00,  1.83990281e-01,  4.30487505e-03,\n",
       "        2.78165670e+00,  1.77391666e+00,  5.10591236e+00,  3.62102603e+00,\n",
       "        3.97526087e-01,  3.44500079e+00,  6.85742036e+00,  7.62511011e-01,\n",
       "        4.18772002e+00,  2.16998132e+00,  6.53080004e+00,  6.53275025e-01,\n",
       "        4.08401850e+00,  1.42124886e+00,  3.56992859e+00,  2.68536682e+00,\n",
       "        1.04377939e+00,  6.01958129e+00,  3.77632866e-01,  6.97209213e+00,\n",
       "        2.78798918e+00,  2.10577192e+00,  2.10562134e+00,  2.62464372e+00,\n",
       "        2.59257647e+00,  8.48840926e-01,  1.03718347e+00,  2.93311841e+00,\n",
       "        8.60559690e-01,  4.68629475e+00,  6.31938681e+00,  2.47457281e+00,\n",
       "        4.82754634e+00,  3.34617857e+00,  3.04568887e+00,  8.85592970e-01,\n",
       "        4.16848715e+00,  2.05056054e+00,  2.42544091e+00,  1.62543995e+00,\n",
       "        2.49459647e+00,  2.67420090e+00,  2.57613877e+00,  3.18574838e-01,\n",
       "        1.81816638e+00,  4.33627566e+00,  2.87058725e+00,  2.77600893e+00,\n",
       "        9.63030990e-01,  1.10191651e+00,  1.88262764e+00,  2.14708712e+00,\n",
       "        2.08605703e+00,  1.21025322e+00,  1.30849714e-01,  6.87239369e-01,\n",
       "        1.72972267e+00,  1.21616004e+00,  4.87064822e+00,  1.51919085e+00,\n",
       "        5.63397355e+00,  1.30276055e+00,  7.16391491e-01,  3.88182572e+00,\n",
       "        1.58528184e+00,  6.31284486e+00,  4.06130720e+00,  4.08742831e+00,\n",
       "        5.36289100e+00,  4.34352516e+00,  8.00035111e-01,  3.56753791e+00,\n",
       "        5.71456639e+00,  5.59483018e+00,  6.01049623e+00,  7.77194087e-01,\n",
       "        4.13055664e+00,  6.28864762e+00,  2.31631545e+00,  1.21140917e+00,\n",
       "        4.32275241e+00,  3.98033927e+00,  7.28534917e+00,  6.63230741e-01,\n",
       "        2.45003882e+00,  5.53774485e+00,  2.11215368e+00,  2.81650755e+00,\n",
       "        1.64320975e+00,  4.22700524e+00,  3.38637489e+00,  1.53635094e+00,\n",
       "        2.15609361e+00,  4.62588317e+00,  2.31686831e+00,  4.52818467e-01,\n",
       "        1.04026003e+00,  5.39364841e+00,  3.67628564e+00,  2.39026564e+00,\n",
       "        2.44898865e+00,  4.14406056e+00,  2.18104314e+00,  3.80061641e+00,\n",
       "        1.02918256e+00,  5.22513268e-01,  1.59008526e+00,  2.11313010e+00,\n",
       "        5.18317440e+00,  1.35442271e+00,  4.57992688e+00,  3.60024921e+00,\n",
       "        7.85316913e+00,  2.52948747e+00,  2.57530295e+00,  5.34802800e+00,\n",
       "        2.49164411e+00,  2.22940910e+00,  1.11632947e+00,  1.52289752e+00,\n",
       "        1.80039771e+00,  1.17031937e+00,  2.14410038e+00,  2.40726527e+00,\n",
       "        8.30575441e-01,  3.33912488e+00,  2.02854825e+00,  4.14260232e-01,\n",
       "        2.12926809e-01,  2.86819311e+00,  2.12789090e+00,  1.01369200e+00,\n",
       "        6.89484780e+00,  7.40542577e+00,  6.16909906e+00,  8.15722680e+00,\n",
       "        3.89023435e+00,  2.01763262e+00,  4.84406556e+00,  2.56442391e+00,\n",
       "        2.52970545e+00,  4.58277056e-01,  4.54235640e+00,  4.09321297e+00,\n",
       "        4.68290245e+00,  2.30218323e+00,  3.25154100e+00,  2.18497708e+00,\n",
       "        5.57839026e+00,  1.99849627e+00,  2.02714315e+00,  2.12016677e+00,\n",
       "        1.23840002e+00,  2.25909626e+00,  4.07442913e+00,  2.81860991e+00,\n",
       "        1.69936894e+00,  2.98906430e+00,  2.74816400e-01,  2.82509722e+00,\n",
       "        1.72957502e+00,  4.24037084e+00,  3.65480142e-01,  4.15611515e+00,\n",
       "        1.13500075e+00,  6.05258878e+00,  4.76742177e+00,  6.06326298e-01,\n",
       "        3.05597052e+00,  4.25735332e+00,  2.58604856e+00,  1.28496513e+00,\n",
       "        4.03919488e-01,  6.22779523e+00,  1.46582494e+00,  5.04324100e+00])"
      ]
     },
     "execution_count": 221,
     "metadata": {},
     "output_type": "execute_result"
    }
   ],
   "source": [
    "y_pred"
   ]
  },
  {
   "cell_type": "code",
   "execution_count": 230,
   "id": "0f28f39e",
   "metadata": {},
   "outputs": [],
   "source": [
    "actual_ = ytest"
   ]
  },
  {
   "cell_type": "code",
   "execution_count": 244,
   "id": "fe78d381",
   "metadata": {},
   "outputs": [
    {
     "data": {
      "text/plain": [
       "0.010459437220217681"
      ]
     },
     "execution_count": 244,
     "metadata": {},
     "output_type": "execute_result"
    }
   ],
   "source": [
    "mse = mean_squared_error(ytest ,ypred)\n",
    "mse"
   ]
  },
  {
   "cell_type": "code",
   "execution_count": 245,
   "id": "cda2dd5b",
   "metadata": {},
   "outputs": [
    {
     "data": {
      "text/plain": [
       "0.10227139003757445"
      ]
     },
     "execution_count": 245,
     "metadata": {},
     "output_type": "execute_result"
    }
   ],
   "source": [
    "rmse=np.sqrt(mse)\n",
    "rmse"
   ]
  },
  {
   "cell_type": "code",
   "execution_count": 246,
   "id": "0db8b0ab",
   "metadata": {},
   "outputs": [
    {
     "data": {
      "text/plain": [
       "2.826295585412673"
      ]
     },
     "execution_count": 246,
     "metadata": {},
     "output_type": "execute_result"
    }
   ],
   "source": [
    "df[\"Fields_goal\"].mean()"
   ]
  },
  {
   "cell_type": "code",
   "execution_count": 223,
   "id": "5b1acfb4",
   "metadata": {},
   "outputs": [
    {
     "data": {
      "text/plain": [
       "0.9922413506448696"
      ]
     },
     "execution_count": 223,
     "metadata": {},
     "output_type": "execute_result"
    }
   ],
   "source": [
    "clf.score(X_train,ytrain)"
   ]
  },
  {
   "cell_type": "code",
   "execution_count": null,
   "id": "090265a7",
   "metadata": {},
   "outputs": [],
   "source": []
  }
 ],
 "metadata": {
  "kernelspec": {
   "display_name": "Python 3",
   "language": "python",
   "name": "python3"
  },
  "language_info": {
   "codemirror_mode": {
    "name": "ipython",
    "version": 3
   },
   "file_extension": ".py",
   "mimetype": "text/x-python",
   "name": "python",
   "nbconvert_exporter": "python",
   "pygments_lexer": "ipython3",
   "version": "3.8.8"
  }
 },
 "nbformat": 4,
 "nbformat_minor": 5
}
